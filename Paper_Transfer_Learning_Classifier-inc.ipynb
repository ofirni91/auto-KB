{
 "cells": [
  {
   "cell_type": "code",
   "execution_count": 1,
   "metadata": {},
   "outputs": [],
   "source": [
    "def str_to_vec(str_word_vec):\n",
    "    str_word_vec = str_word_vec[12:-33]\n",
    "    str_word_vec = re.sub(r'\\[', '', str_word_vec)\n",
    "    str_word_vec = re.sub(r'\\]', '', str_word_vec)\n",
    "    str_word_vec = re.sub(r'\\n', ' ', str_word_vec)\n",
    "    str_word_vec = re.sub(r'\\s+', ' ', str_word_vec)\n",
    "    vec = np.fromstring(str_word_vec, dtype=float, sep=' ')\n",
    "    return vec\n",
    "\n",
    "def str_to_vec_rep(str_word_vec):\n",
    "    str_word_vec = str_word_vec[12:-33]\n",
    "    str_word_vec = re.sub(r'\\[', '', str_word_vec)\n",
    "    str_word_vec = re.sub(r'\\]', '', str_word_vec)\n",
    "    str_word_vec = re.sub(r'\\n', ' ', str_word_vec)\n",
    "    str_word_vec = re.sub(r'\\s+', ' ', str_word_vec)\n",
    "    vec = np.fromstring(str_word_vec, dtype=float, sep=' ')\n",
    "    return vec\n",
    "\n",
    "def str_to_vec_rep_old(str_word_vec):\n",
    "    str_word_vec = str_word_vec[79:-25]\n",
    "    str_word_vec = re.sub(r'\\[', '', str_word_vec)\n",
    "    str_word_vec = re.sub(r'\\]', '', str_word_vec)\n",
    "    str_word_vec = re.sub(r'\\n', ' ', str_word_vec)\n",
    "    str_word_vec = re.sub(r'\\s+', ' ', str_word_vec)\n",
    "    vec = np.fromstring(str_word_vec, dtype=float, sep=',')\n",
    "    return vec"
   ]
  },
  {
   "cell_type": "code",
   "execution_count": 2,
   "metadata": {},
   "outputs": [],
   "source": [
    "from catboost import CatBoostClassifier\n",
    "from sklearn.ensemble import RandomForestClassifier\n",
    "from sklearn.metrics import f1_score, precision_score, recall_score, confusion_matrix, roc_auc_score\n",
    "import pandas as pd"
   ]
  },
  {
   "cell_type": "code",
   "execution_count": 7,
   "metadata": {},
   "outputs": [
    {
     "name": "stderr",
     "output_type": "stream",
     "text": [
      "<ipython-input-1-8f90cbef799c>:16: DeprecationWarning: string or file could not be read to its end due to unmatched data; this will raise a ValueError in the future.\n",
      "  vec = np.fromstring(str_word_vec, dtype=float, sep=' ')\n"
     ]
    },
    {
     "name": "stdout",
     "output_type": "stream",
     "text": [
      "roc auc:  0.5809205907369364\n",
      "error:  0.4178020996202814\n",
      "f1:  0.6979410577311264\n",
      "precision : 0.5475737995692386\n",
      "recall : 0.9621549421193233\n",
      "***********************\n",
      " predicted False  predicted True              \n",
      "             891            3571  actual False\n",
      "             170            4322   actual True\n",
      "##################################################\n",
      "roc auc:  0.5198017444312909\n",
      "error:  0.4784164616416909\n",
      "f1:  0.6746768060836502\n",
      "precision : 0.5121219117986608\n",
      "recall : 0.9884135472370766\n",
      "***********************\n",
      " predicted False  predicted True              \n",
      "             114            2113  actual False\n",
      "              26            2218   actual True\n"
     ]
    },
    {
     "name": "stderr",
     "output_type": "stream",
     "text": [
      "<ipython-input-1-8f90cbef799c>:16: DeprecationWarning: string or file could not be read to its end due to unmatched data; this will raise a ValueError in the future.\n",
      "  vec = np.fromstring(str_word_vec, dtype=float, sep=' ')\n"
     ]
    },
    {
     "name": "stdout",
     "output_type": "stream",
     "text": [
      "roc auc:  0.5506486355742546\n",
      "error:  0.4479562206834934\n",
      "f1:  0.6841483581384361\n",
      "precision : 0.5293042524674059\n",
      "recall : 0.9670525378450578\n",
      "***********************\n",
      " predicted False  predicted True              \n",
      "             599            3863  actual False\n",
      "             148            4344   actual True\n",
      "##################################################\n",
      "roc auc:  0.5346147827625152\n",
      "error:  0.46365466338626704\n",
      "f1:  0.681811204911742\n",
      "precision : 0.5200187309763521\n",
      "recall : 0.9897504456327986\n",
      "***********************\n",
      " predicted False  predicted True              \n",
      "             177            2050  actual False\n",
      "              23            2221   actual True\n"
     ]
    },
    {
     "name": "stderr",
     "output_type": "stream",
     "text": [
      "<ipython-input-1-8f90cbef799c>:16: DeprecationWarning: string or file could not be read to its end due to unmatched data; this will raise a ValueError in the future.\n",
      "  vec = np.fromstring(str_word_vec, dtype=float, sep=' ')\n"
     ]
    },
    {
     "name": "stdout",
     "output_type": "stream",
     "text": [
      "roc auc:  0.5748747312319367\n",
      "error:  0.4238329238329238\n",
      "f1:  0.6945674044265594\n",
      "precision : 0.543930417244422\n",
      "recall : 0.9605966162065895\n",
      "***********************\n",
      " predicted False  predicted True              \n",
      "             844            3618  actual False\n",
      "             177            4315   actual True\n",
      "##################################################\n",
      "roc auc:  0.5146350985431636\n",
      "error:  0.48378438828002684\n",
      "f1:  0.6715261958997722\n",
      "precision : 0.5092123445416858\n",
      "recall : 0.9857333927775301\n",
      "***********************\n",
      " predicted False  predicted True              \n",
      "              97            2131  actual False\n",
      "              32            2211   actual True\n"
     ]
    },
    {
     "name": "stderr",
     "output_type": "stream",
     "text": [
      "<ipython-input-1-8f90cbef799c>:16: DeprecationWarning: string or file could not be read to its end due to unmatched data; this will raise a ValueError in the future.\n",
      "  vec = np.fromstring(str_word_vec, dtype=float, sep=' ')\n"
     ]
    },
    {
     "name": "stdout",
     "output_type": "stream",
     "text": [
      "roc auc:  0.5639482891643014\n",
      "error:  0.4346660710297074\n",
      "f1:  0.6929146283730471\n",
      "precision : 0.5366658518699584\n",
      "recall : 0.9775155832591274\n",
      "***********************\n",
      " predicted False  predicted True              \n",
      "             671            3791  actual False\n",
      "             101            4391   actual True\n",
      "##################################################\n",
      "roc auc:  0.5117049414232192\n",
      "error:  0.4866860595211457\n",
      "f1:  0.6714005136727603\n",
      "precision : 0.507653644048435\n",
      "recall : 0.9910793933987511\n",
      "***********************\n",
      " predicted False  predicted True              \n",
      "              72            2155  actual False\n",
      "              20            2222   actual True\n"
     ]
    },
    {
     "name": "stderr",
     "output_type": "stream",
     "text": [
      "<ipython-input-1-8f90cbef799c>:16: DeprecationWarning: string or file could not be read to its end due to unmatched data; this will raise a ValueError in the future.\n",
      "  vec = np.fromstring(str_word_vec, dtype=float, sep=' ')\n"
     ]
    },
    {
     "name": "stdout",
     "output_type": "stream",
     "text": [
      "roc auc:  0.5875783753017965\n",
      "error:  0.4112128657583203\n",
      "f1:  0.6982461891493198\n",
      "precision : 0.5525291828793775\n",
      "recall : 0.9483526268922529\n",
      "***********************\n",
      " predicted False  predicted True              \n",
      "            1012            3450  actual False\n",
      "             232            4260   actual True\n",
      "##################################################\n",
      "roc auc:  0.5268052332425252\n",
      "error:  0.47136465324384785\n",
      "f1:  0.6763937951159575\n",
      "precision : 0.5160534333255214\n",
      "recall : 0.9812834224598931\n",
      "***********************\n",
      " predicted False  predicted True              \n",
      "             161            2065  actual False\n",
      "              42            2202   actual True\n"
     ]
    },
    {
     "name": "stderr",
     "output_type": "stream",
     "text": [
      "<ipython-input-1-8f90cbef799c>:16: DeprecationWarning: string or file could not be read to its end due to unmatched data; this will raise a ValueError in the future.\n",
      "  vec = np.fromstring(str_word_vec, dtype=float, sep=' ')\n"
     ]
    },
    {
     "name": "stdout",
     "output_type": "stream",
     "text": [
      "roc auc:  0.5838729981843312\n",
      "error:  0.41489836944382397\n",
      "f1:  0.6968584251325989\n",
      "precision : 0.5500450856627592\n",
      "recall : 0.9505788067675868\n",
      "***********************\n",
      " predicted False  predicted True              \n",
      "             969            3493  actual False\n",
      "             222            4270   actual True\n",
      "##################################################\n",
      "roc auc:  0.5281258929664857\n",
      "error:  0.4701409080742563\n",
      "f1:  0.6775084381712182\n",
      "precision : 0.516612072999532\n",
      "recall : 0.983957219251337\n",
      "***********************\n",
      " predicted False  predicted True              \n",
      "             161            2066  actual False\n",
      "              36            2208   actual True\n"
     ]
    },
    {
     "name": "stderr",
     "output_type": "stream",
     "text": [
      "<ipython-input-1-8f90cbef799c>:16: DeprecationWarning: string or file could not be read to its end due to unmatched data; this will raise a ValueError in the future.\n",
      "  vec = np.fromstring(str_word_vec, dtype=float, sep=' ')\n"
     ]
    },
    {
     "name": "stdout",
     "output_type": "stream",
     "text": [
      "roc auc:  0.5709265298775092\n",
      "error:  0.427741791378155\n",
      "f1:  0.6943335993615324\n",
      "precision : 0.5411793978601642\n",
      "recall : 0.9683882457702583\n",
      "***********************\n",
      " predicted False  predicted True              \n",
      "             774            3688  actual False\n",
      "             142            4350   actual True\n",
      "##################################################\n",
      "roc auc:  0.5159929323358846\n",
      "error:  0.48210290827740493\n",
      "f1:  0.6731381768542394\n",
      "precision : 0.5102322372959301\n",
      "recall : 0.9888591800356507\n",
      "***********************\n",
      " predicted False  predicted True              \n",
      "              96            2130  actual False\n",
      "              25            2219   actual True\n"
     ]
    },
    {
     "name": "stderr",
     "output_type": "stream",
     "text": [
      "<ipython-input-1-8f90cbef799c>:16: DeprecationWarning: string or file could not be read to its end due to unmatched data; this will raise a ValueError in the future.\n",
      "  vec = np.fromstring(str_word_vec, dtype=float, sep=' ')\n"
     ]
    },
    {
     "name": "stdout",
     "output_type": "stream",
     "text": [
      "roc auc:  0.5601368417103288\n",
      "error:  0.43846325664507485\n",
      "f1:  0.6911579609817495\n",
      "precision : 0.5344282238442822\n",
      "recall : 0.9779608192341941\n",
      "***********************\n",
      " predicted False  predicted True              \n",
      "             635            3827  actual False\n",
      "              99            4393   actual True\n",
      "##################################################\n",
      "roc auc:  0.5058810110448085\n",
      "error:  0.4925039158648467\n",
      "f1:  0.6678738494039536\n",
      "precision : 0.5046750285062713\n",
      "recall : 0.9870651204281892\n",
      "***********************\n",
      " predicted False  predicted True              \n",
      "              55            2172  actual False\n",
      "              29            2213   actual True\n"
     ]
    },
    {
     "name": "stderr",
     "output_type": "stream",
     "text": [
      "<ipython-input-1-8f90cbef799c>:16: DeprecationWarning: string or file could not be read to its end due to unmatched data; this will raise a ValueError in the future.\n",
      "  vec = np.fromstring(str_word_vec, dtype=float, sep=' ')\n"
     ]
    },
    {
     "name": "stdout",
     "output_type": "stream",
     "text": [
      "roc auc:  0.5651160108133868\n",
      "error:  0.4335492517310699\n",
      "f1:  0.690381241027277\n",
      "precision : 0.5379070345513298\n",
      "recall : 0.9634906500445236\n",
      "***********************\n",
      " predicted False  predicted True              \n",
      "             744            3718  actual False\n",
      "             164            4328   actual True\n",
      "##################################################\n",
      "roc auc:  0.5229653971234574\n",
      "error:  0.4752851711026616\n",
      "f1:  0.6749273366987915\n",
      "precision : 0.513859771721407\n",
      "recall : 0.9830659536541889\n",
      "***********************\n",
      " predicted False  predicted True              \n",
      "             140            2087  actual False\n",
      "              38            2206   actual True\n"
     ]
    },
    {
     "name": "stderr",
     "output_type": "stream",
     "text": [
      "<ipython-input-1-8f90cbef799c>:16: DeprecationWarning: string or file could not be read to its end due to unmatched data; this will raise a ValueError in the future.\n",
      "  vec = np.fromstring(str_word_vec, dtype=float, sep=' ')\n"
     ]
    },
    {
     "name": "stdout",
     "output_type": "stream",
     "text": [
      "roc auc:  0.5849830946035643\n",
      "error:  0.4137815501451865\n",
      "f1:  0.6981178196040086\n",
      "precision : 0.5505719059246883\n",
      "recall : 0.9536954585930543\n",
      "***********************\n",
      " predicted False  predicted True              \n",
      "             965            3497  actual False\n",
      "             208            4284   actual True\n",
      "##################################################\n",
      "roc auc:  0.5230251112084957\n",
      "error:  0.4750615074927309\n",
      "f1:  0.672928857406837\n",
      "precision : 0.5142386443869146\n",
      "recall : 0.9732739420935412\n",
      "***********************\n",
      " predicted False  predicted True              \n",
      "             162            2064  actual False\n",
      "              60            2185   actual True\n",
      "# New Domain Positive Pairs Percentage - test: 0.999\n",
      "defaultdict(<class 'list'>, {'auc': [0.5723006097198347], 'error': [0.42639044002680365], 'precision': [0.5424135151873626], 'recall': [0.9629786286731968], 'f1': [0.6938666683925655]})\n",
      "defaultdict(<class 'list'>, {'auc': [0.5203552145081846], 'error': [0.47790006368848786], 'precision': [0.512467781960071], 'recall': [0.9852481616968957], 'f1': [0.6742185174218922]})\n"
     ]
    },
    {
     "name": "stderr",
     "output_type": "stream",
     "text": [
      "<ipython-input-1-8f90cbef799c>:16: DeprecationWarning: string or file could not be read to its end due to unmatched data; this will raise a ValueError in the future.\n",
      "  vec = np.fromstring(str_word_vec, dtype=float, sep=' ')\n"
     ]
    },
    {
     "name": "stdout",
     "output_type": "stream",
     "text": [
      "roc auc:  0.5873490303932433\n",
      "error:  0.4117647058823529\n",
      "f1:  0.6742734890354787\n",
      "precision : 0.558971327224357\n",
      "recall : 0.8495058400718778\n",
      "***********************\n",
      " predicted False  predicted True              \n",
      "            1438            2984  actual False\n",
      "             670            3782   actual True\n",
      "##################################################\n",
      "roc auc:  0.6320865618003283\n",
      "error:  0.3664329337254015\n",
      "f1:  0.7280053727333781\n",
      "precision : 0.5802997858672377\n",
      "recall : 0.9765765765765766\n",
      "***********************\n",
      " predicted False  predicted True              \n",
      "             633            1568  actual False\n",
      "              52            2168   actual True\n"
     ]
    },
    {
     "name": "stderr",
     "output_type": "stream",
     "text": [
      "<ipython-input-1-8f90cbef799c>:16: DeprecationWarning: string or file could not be read to its end due to unmatched data; this will raise a ValueError in the future.\n",
      "  vec = np.fromstring(str_word_vec, dtype=float, sep=' ')\n"
     ]
    },
    {
     "name": "stdout",
     "output_type": "stream",
     "text": [
      "roc auc:  0.6326257404474807\n",
      "error:  0.3665765156637368\n",
      "f1:  0.7039228178756713\n",
      "precision : 0.5917368018362663\n",
      "recall : 0.8685983827493261\n",
      "***********************\n",
      " predicted False  predicted True              \n",
      "            1754            2668  actual False\n",
      "             585            3867   actual True\n",
      "##################################################\n",
      "roc auc:  0.6101840767153605\n",
      "error:  0.3879855465221319\n",
      "f1:  0.7106769956214214\n",
      "precision : 0.568426724137931\n",
      "recall : 0.9478885893980233\n",
      "***********************\n",
      " predicted False  predicted True              \n",
      "             600            1602  actual False\n",
      "             116            2110   actual True\n"
     ]
    },
    {
     "name": "stderr",
     "output_type": "stream",
     "text": [
      "<ipython-input-1-8f90cbef799c>:16: DeprecationWarning: string or file could not be read to its end due to unmatched data; this will raise a ValueError in the future.\n",
      "  vec = np.fromstring(str_word_vec, dtype=float, sep=' ')\n"
     ]
    },
    {
     "name": "stdout",
     "output_type": "stream",
     "text": [
      "roc auc:  0.6014883923923631\n",
      "error:  0.3973405454135677\n",
      "f1:  0.7053317733578472\n",
      "precision : 0.5616183124833644\n",
      "recall : 0.9478885893980233\n",
      "***********************\n",
      " predicted False  predicted True              \n",
      "            1128            3294  actual False\n",
      "             232            4220   actual True\n",
      "##################################################\n",
      "roc auc:  0.5416458860488711\n",
      "error:  0.4574588129090499\n",
      "f1:  0.6827359524182188\n",
      "precision : 0.523147037658911\n",
      "recall : 0.9824324324324324\n",
      "***********************\n",
      " predicted False  predicted True              \n",
      "             223            1988  actual False\n",
      "              39            2181   actual True\n"
     ]
    },
    {
     "name": "stderr",
     "output_type": "stream",
     "text": [
      "<ipython-input-1-8f90cbef799c>:16: DeprecationWarning: string or file could not be read to its end due to unmatched data; this will raise a ValueError in the future.\n",
      "  vec = np.fromstring(str_word_vec, dtype=float, sep=' ')\n"
     ]
    },
    {
     "name": "stdout",
     "output_type": "stream",
     "text": [
      "roc auc:  0.5937924016282224\n",
      "error:  0.40511606941627226\n",
      "f1:  0.6942247171897592\n",
      "precision : 0.5586584531143053\n",
      "recall : 0.9166666666666666\n",
      "***********************\n",
      " predicted False  predicted True              \n",
      "            1198            3224  actual False\n",
      "             371            4081   actual True\n",
      "##################################################\n",
      "roc auc:  0.5912578757875788\n",
      "error:  0.40682948891904114\n",
      "f1:  0.7067644661776691\n",
      "precision : 0.5540506005622284\n",
      "recall : 0.9756975697569757\n",
      "***********************\n",
      " predicted False  predicted True              \n",
      "             455            1745  actual False\n",
      "              54            2168   actual True\n"
     ]
    },
    {
     "name": "stderr",
     "output_type": "stream",
     "text": [
      "<ipython-input-1-8f90cbef799c>:16: DeprecationWarning: string or file could not be read to its end due to unmatched data; this will raise a ValueError in the future.\n",
      "  vec = np.fromstring(str_word_vec, dtype=float, sep=' ')\n"
     ]
    },
    {
     "name": "stdout",
     "output_type": "stream",
     "text": [
      "roc auc:  0.6134085453643325\n",
      "error:  0.38562091503267976\n",
      "f1:  0.7008741258741259\n",
      "precision : 0.5736977676016027\n",
      "recall : 0.9004941599281222\n",
      "***********************\n",
      " predicted False  predicted True              \n",
      "            1443            2979  actual False\n",
      "             443            4009   actual True\n",
      "##################################################\n",
      "roc auc:  0.6020764946719561\n",
      "error:  0.39652448657187994\n",
      "f1:  0.709922403830279\n",
      "precision : 0.5609183407252805\n",
      "recall : 0.966726618705036\n",
      "***********************\n",
      " predicted False  predicted True              \n",
      "             524            1683  actual False\n",
      "              74            2150   actual True\n"
     ]
    },
    {
     "name": "stderr",
     "output_type": "stream",
     "text": [
      "<ipython-input-1-8f90cbef799c>:16: DeprecationWarning: string or file could not be read to its end due to unmatched data; this will raise a ValueError in the future.\n",
      "  vec = np.fromstring(str_word_vec, dtype=float, sep=' ')\n"
     ]
    },
    {
     "name": "stdout",
     "output_type": "stream",
     "text": [
      "roc auc:  0.6079898229996794\n",
      "error:  0.39091728645481183\n",
      "f1:  0.7050420882578012\n",
      "precision : 0.5672458612669312\n",
      "recall : 0.931266846361186\n",
      "***********************\n",
      " predicted False  predicted True              \n",
      "            1259            3163  actual False\n",
      "             306            4146   actual True\n",
      "##################################################\n",
      "roc auc:  0.559313440418452\n",
      "error:  0.43899683687302304\n",
      "f1:  0.6903585657370519\n",
      "precision : 0.5344189489267209\n",
      "recall : 0.9747974797479748\n",
      "***********************\n",
      " predicted False  predicted True              \n",
      "             317            1887  actual False\n",
      "              56            2166   actual True\n"
     ]
    },
    {
     "name": "stderr",
     "output_type": "stream",
     "text": [
      "<ipython-input-1-8f90cbef799c>:16: DeprecationWarning: string or file could not be read to its end due to unmatched data; this will raise a ValueError in the future.\n",
      "  vec = np.fromstring(str_word_vec, dtype=float, sep=' ')\n"
     ]
    },
    {
     "name": "stdout",
     "output_type": "stream",
     "text": [
      "roc auc:  0.5928433366126973\n",
      "error:  0.4061302681992337\n",
      "f1:  0.6889349214569307\n",
      "precision : 0.5594336977852538\n",
      "recall : 0.8964510332434861\n",
      "***********************\n",
      " predicted False  predicted True              \n",
      "            1279            3143  actual False\n",
      "             461            3991   actual True\n",
      "##################################################\n",
      "roc auc:  0.5719254170084769\n",
      "error:  0.4264772214704556\n",
      "f1:  0.6944579091937308\n",
      "precision : 0.5422659601312138\n",
      "recall : 0.9654088050314465\n",
      "***********************\n",
      " predicted False  predicted True              \n",
      "             394            1814  actual False\n",
      "              77            2149   actual True\n"
     ]
    },
    {
     "name": "stderr",
     "output_type": "stream",
     "text": [
      "<ipython-input-1-8f90cbef799c>:16: DeprecationWarning: string or file could not be read to its end due to unmatched data; this will raise a ValueError in the future.\n",
      "  vec = np.fromstring(str_word_vec, dtype=float, sep=' ')\n"
     ]
    },
    {
     "name": "stdout",
     "output_type": "stream",
     "text": [
      "roc auc:  0.6107347665007479\n",
      "error:  0.3882127563669146\n",
      "f1:  0.7044187044187045\n",
      "precision : 0.569901429959739\n",
      "recall : 0.9220575022461814\n",
      "***********************\n",
      " predicted False  predicted True              \n",
      "            1324            3098  actual False\n",
      "             347            4105   actual True\n",
      "##################################################\n",
      "roc auc:  0.5643525344450658\n",
      "error:  0.4342728297632469\n",
      "f1:  0.69164265129683\n",
      "precision : 0.5371798060184034\n",
      "recall : 0.9707865168539326\n",
      "***********************\n",
      " predicted False  predicted True              \n",
      "             349            1861  actual False\n",
      "              65            2160   actual True\n"
     ]
    },
    {
     "name": "stderr",
     "output_type": "stream",
     "text": [
      "<ipython-input-1-8f90cbef799c>:16: DeprecationWarning: string or file could not be read to its end due to unmatched data; this will raise a ValueError in the future.\n",
      "  vec = np.fromstring(str_word_vec, dtype=float, sep=' ')\n"
     ]
    },
    {
     "name": "stdout",
     "output_type": "stream",
     "text": [
      "roc auc:  0.6166479840444921\n",
      "error:  0.38235294117647056\n",
      "f1:  0.7053408597481546\n",
      "precision : 0.5749681438482231\n",
      "recall : 0.9121743036837376\n",
      "***********************\n",
      " predicted False  predicted True              \n",
      "            1420            3002  actual False\n",
      "             391            4061   actual True\n",
      "##################################################\n",
      "roc auc:  0.5679470331468882\n",
      "error:  0.43089064261555804\n",
      "f1:  0.6918238993710693\n",
      "precision : 0.5393512698013578\n",
      "recall : 0.9644784172661871\n",
      "***********************\n",
      " predicted False  predicted True              \n",
      "             379            1832  actual False\n",
      "              79            2145   actual True\n"
     ]
    },
    {
     "name": "stderr",
     "output_type": "stream",
     "text": [
      "<ipython-input-1-8f90cbef799c>:16: DeprecationWarning: string or file could not be read to its end due to unmatched data; this will raise a ValueError in the future.\n",
      "  vec = np.fromstring(str_word_vec, dtype=float, sep=' ')\n"
     ]
    },
    {
     "name": "stdout",
     "output_type": "stream",
     "text": [
      "roc auc:  0.5914387874399138\n",
      "error:  0.40736984448951996\n",
      "f1:  0.6992262251435228\n",
      "precision : 0.5553059336593101\n",
      "recall : 0.9438454627133872\n",
      "***********************\n",
      " predicted False  predicted True              \n",
      "            1057            3365  actual False\n",
      "             250            4202   actual True\n",
      "##################################################\n",
      "roc auc:  0.5378423434150988\n",
      "error:  0.46086171892623506\n",
      "f1:  0.680731364275668\n",
      "precision : 0.521551724137931\n",
      "recall : 0.979757085020243\n",
      "***********************\n",
      " predicted False  predicted True              \n",
      "             212            1998  actual False\n",
      "              45            2178   actual True\n",
      "# New Domain Positive Pairs Percentage - test: 0.99\n",
      "defaultdict(<class 'list'>, {'auc': [0.5723006097198347, 0.6048318807823172], 'error': [0.42639044002680365, 0.39414018480955604], 'precision': [0.5424135151873626, 0.5671537728779353], 'recall': [0.9629786286731968, 0.9088948787061994], 'f1': [0.6938666683925655, 0.6981589722357996]})\n",
      "defaultdict(<class 'list'>, {'auc': [0.5203552145081846, 0.5778631663458077], 'error': [0.47790006368848786, 0.4206730518296023], 'precision': [0.512467781960071, 0.5461610197967216], 'recall': [0.9852481616968957, 0.9704550090788828], 'f1': [0.6742185174218922, 0.6987119580655317]})\n"
     ]
    },
    {
     "name": "stderr",
     "output_type": "stream",
     "text": [
      "<ipython-input-1-8f90cbef799c>:16: DeprecationWarning: string or file could not be read to its end due to unmatched data; this will raise a ValueError in the future.\n",
      "  vec = np.fromstring(str_word_vec, dtype=float, sep=' ')\n"
     ]
    },
    {
     "name": "stdout",
     "output_type": "stream",
     "text": [
      "roc auc:  0.7623783417973145\n",
      "error:  0.23713896119995043\n",
      "f1:  0.7932115446978705\n",
      "precision : 0.7050345887778632\n",
      "recall : 0.9065974796145293\n",
      "***********************\n",
      " predicted False  predicted True              \n",
      "            2485            1535  actual False\n",
      "             378            3669   actual True\n",
      "##################################################\n",
      "roc auc:  0.6780906226002963\n",
      "error:  0.3212960672767747\n",
      "f1:  0.7484020918070887\n",
      "precision : 0.6158750398469875\n",
      "recall : 0.9536031589338598\n",
      "***********************\n",
      " predicted False  predicted True              \n",
      "             812            1205  actual False\n",
      "              94            1932   actual True\n"
     ]
    },
    {
     "name": "stderr",
     "output_type": "stream",
     "text": [
      "<ipython-input-1-8f90cbef799c>:16: DeprecationWarning: string or file could not be read to its end due to unmatched data; this will raise a ValueError in the future.\n",
      "  vec = np.fromstring(str_word_vec, dtype=float, sep=' ')\n"
     ]
    },
    {
     "name": "stdout",
     "output_type": "stream",
     "text": [
      "roc auc:  0.7631096740168689\n",
      "error:  0.23639519028139333\n",
      "f1:  0.7945264518909599\n",
      "precision : 0.7044325563622469\n",
      "recall : 0.911045218680504\n",
      "***********************\n",
      " predicted False  predicted True              \n",
      "            2473            1547  actual False\n",
      "             360            3687   actual True\n",
      "##################################################\n",
      "roc auc:  0.6789518033670192\n",
      "error:  0.319533961328706\n",
      "f1:  0.750628748307216\n",
      "precision : 0.6176376950015918\n",
      "recall : 0.9566074950690335\n",
      "***********************\n",
      " predicted False  predicted True              \n",
      "             805            1201  actual False\n",
      "              88            1940   actual True\n"
     ]
    },
    {
     "name": "stderr",
     "output_type": "stream",
     "text": [
      "<ipython-input-1-8f90cbef799c>:16: DeprecationWarning: string or file could not be read to its end due to unmatched data; this will raise a ValueError in the future.\n",
      "  vec = np.fromstring(str_word_vec, dtype=float, sep=' ')\n"
     ]
    },
    {
     "name": "stdout",
     "output_type": "stream",
     "text": [
      "roc auc:  0.7606270906402015\n",
      "error:  0.23887442667658362\n",
      "f1:  0.7925503283453548\n",
      "precision : 0.702212895841282\n",
      "recall : 0.9095626389918459\n",
      "***********************\n",
      " predicted False  predicted True              \n",
      "            2459            1561  actual False\n",
      "             366            3681   actual True\n",
      "##################################################\n",
      "roc auc:  0.6823588328441312\n",
      "error:  0.31637441343541617\n",
      "f1:  0.7515033947623666\n",
      "precision : 0.6206344120474206\n",
      "recall : 0.9523107177974435\n",
      "***********************\n",
      " predicted False  predicted True              \n",
      "             831            1184  actual False\n",
      "              97            1937   actual True\n"
     ]
    },
    {
     "name": "stderr",
     "output_type": "stream",
     "text": [
      "<ipython-input-1-8f90cbef799c>:16: DeprecationWarning: string or file could not be read to its end due to unmatched data; this will raise a ValueError in the future.\n",
      "  vec = np.fromstring(str_word_vec, dtype=float, sep=' ')\n"
     ]
    },
    {
     "name": "stdout",
     "output_type": "stream",
     "text": [
      "roc auc:  0.7565656705353884\n",
      "error:  0.24284120490888805\n",
      "f1:  0.794157822843333\n",
      "precision : 0.6908592321755027\n",
      "recall : 0.9337781072399308\n",
      "***********************\n",
      " predicted False  predicted True              \n",
      "            2329            1691  actual False\n",
      "             268            3779   actual True\n",
      "##################################################\n",
      "roc auc:  0.6605786355541017\n",
      "error:  0.3403888752153581\n",
      "f1:  0.7382169222032936\n",
      "precision : 0.5985267034990792\n",
      "recall : 0.9629629629629629\n",
      "***********************\n",
      " predicted False  predicted True              \n",
      "             730            1308  actual False\n",
      "              75            1950   actual True\n"
     ]
    },
    {
     "name": "stderr",
     "output_type": "stream",
     "text": [
      "<ipython-input-1-8f90cbef799c>:16: DeprecationWarning: string or file could not be read to its end due to unmatched data; this will raise a ValueError in the future.\n",
      "  vec = np.fromstring(str_word_vec, dtype=float, sep=' ')\n"
     ]
    },
    {
     "name": "stdout",
     "output_type": "stream",
     "text": [
      "roc auc:  0.7741254808241963\n",
      "error:  0.22548655014255609\n",
      "f1:  0.798404078466142\n",
      "precision : 0.7238745980707395\n",
      "recall : 0.890042006424512\n",
      "***********************\n",
      " predicted False  predicted True              \n",
      "            2646            1374  actual False\n",
      "             445            3602   actual True\n",
      "##################################################\n",
      "roc auc:  0.7116575375678498\n",
      "error:  0.28724197960706294\n",
      "f1:  0.7676523838261919\n",
      "precision : 0.6465604879701796\n",
      "recall : 0.9445544554455445\n",
      "***********************\n",
      " predicted False  predicted True              \n",
      "             958            1043  actual False\n",
      "             112            1908   actual True\n"
     ]
    },
    {
     "name": "stderr",
     "output_type": "stream",
     "text": [
      "<ipython-input-1-8f90cbef799c>:16: DeprecationWarning: string or file could not be read to its end due to unmatched data; this will raise a ValueError in the future.\n",
      "  vec = np.fromstring(str_word_vec, dtype=float, sep=' ')\n"
     ]
    },
    {
     "name": "stdout",
     "output_type": "stream",
     "text": [
      "roc auc:  0.7587356951344095\n",
      "error:  0.24073385397297634\n",
      "f1:  0.7926542814435191\n",
      "precision : 0.6978755405151345\n",
      "recall : 0.9172226340499136\n",
      "***********************\n",
      " predicted False  predicted True              \n",
      "            2413            1607  actual False\n",
      "             335            3712   actual True\n",
      "##################################################\n",
      "roc auc:  0.6740104475026886\n",
      "error:  0.3257783312577833\n",
      "f1:  0.7461180124223602\n",
      "precision : 0.6115176582882597\n",
      "recall : 0.9566948730711797\n",
      "***********************\n",
      " predicted False  predicted True              \n",
      "             785            1221  actual False\n",
      "              87            1922   actual True\n"
     ]
    },
    {
     "name": "stderr",
     "output_type": "stream",
     "text": [
      "<ipython-input-1-8f90cbef799c>:16: DeprecationWarning: string or file could not be read to its end due to unmatched data; this will raise a ValueError in the future.\n",
      "  vec = np.fromstring(str_word_vec, dtype=float, sep=' ')\n"
     ]
    },
    {
     "name": "stdout",
     "output_type": "stream",
     "text": [
      "roc auc:  0.7629429760021242\n",
      "error:  0.23651915210115285\n",
      "f1:  0.7966751918158568\n",
      "precision : 0.7003934794828556\n",
      "recall : 0.9236471460340994\n",
      "***********************\n",
      " predicted False  predicted True              \n",
      "            2421            1599  actual False\n",
      "             309            3738   actual True\n",
      "##################################################\n",
      "roc auc:  0.6730872487491912\n",
      "error:  0.32451150136037593\n",
      "f1:  0.7471087124132615\n",
      "precision : 0.6154334709431566\n",
      "recall : 0.9504659146640511\n",
      "***********************\n",
      " predicted False  predicted True              \n",
      "             793            1211  actual False\n",
      "             101            1938   actual True\n"
     ]
    },
    {
     "name": "stderr",
     "output_type": "stream",
     "text": [
      "<ipython-input-1-8f90cbef799c>:16: DeprecationWarning: string or file could not be read to its end due to unmatched data; this will raise a ValueError in the future.\n",
      "  vec = np.fromstring(str_word_vec, dtype=float, sep=' ')\n"
     ]
    },
    {
     "name": "stdout",
     "output_type": "stream",
     "text": [
      "roc auc:  0.7647564623140783\n",
      "error:  0.23478368662451965\n",
      "f1:  0.7940408873423227\n",
      "precision : 0.7090697222761702\n",
      "recall : 0.9021497405485545\n",
      "***********************\n",
      " predicted False  predicted True              \n",
      "            2522            1498  actual False\n",
      "             396            3651   actual True\n",
      "##################################################\n",
      "roc auc:  0.7099224492658287\n",
      "error:  0.28745341614906833\n",
      "f1:  0.7727362011392653\n",
      "precision : 0.6432308698495749\n",
      "recall : 0.9675356615838662\n",
      "***********************\n",
      " predicted False  predicted True              \n",
      "             901            1091  actual False\n",
      "              66            1967   actual True\n"
     ]
    },
    {
     "name": "stderr",
     "output_type": "stream",
     "text": [
      "<ipython-input-1-8f90cbef799c>:16: DeprecationWarning: string or file could not be read to its end due to unmatched data; this will raise a ValueError in the future.\n",
      "  vec = np.fromstring(str_word_vec, dtype=float, sep=' ')\n"
     ]
    },
    {
     "name": "stdout",
     "output_type": "stream",
     "text": [
      "roc auc:  0.7733908293963836\n",
      "error:  0.22623032106111318\n",
      "f1:  0.7972447505832686\n",
      "precision : 0.7242632216390795\n",
      "recall : 0.8865826538176427\n",
      "***********************\n",
      " predicted False  predicted True              \n",
      "            2654            1366  actual False\n",
      "             459            3588   actual True\n",
      "##################################################\n",
      "roc auc:  0.7178581566641269\n",
      "error:  0.281437125748503\n",
      "f1:  0.7725806451612902\n",
      "precision : 0.6494915254237288\n",
      "recall : 0.9532338308457712\n",
      "***********************\n",
      " predicted False  predicted True              \n",
      "             964            1034  actual False\n",
      "              94            1916   actual True\n"
     ]
    },
    {
     "name": "stderr",
     "output_type": "stream",
     "text": [
      "<ipython-input-1-8f90cbef799c>:16: DeprecationWarning: string or file could not be read to its end due to unmatched data; this will raise a ValueError in the future.\n",
      "  vec = np.fromstring(str_word_vec, dtype=float, sep=' ')\n"
     ]
    },
    {
     "name": "stdout",
     "output_type": "stream",
     "text": [
      "roc auc:  0.7673642536022629\n",
      "error:  0.23218048840956984\n",
      "f1:  0.7960805661404464\n",
      "precision : 0.7115609186453873\n",
      "recall : 0.9033852236224363\n",
      "***********************\n",
      " predicted False  predicted True              \n",
      "            2538            1482  actual False\n",
      "             391            3656   actual True\n",
      "##################################################\n",
      "roc auc:  0.7140370484558862\n",
      "error:  0.28404572564612324\n",
      "f1:  0.7721746063384493\n",
      "precision : 0.6480428236868518\n",
      "recall : 0.9551282051282052\n",
      "***********************\n",
      " predicted False  predicted True              \n",
      "             944            1052  actual False\n",
      "              91            1937   actual True\n",
      "# New Domain Positive Pairs Percentage - test: 0.9\n",
      "defaultdict(<class 'list'>, {'auc': [0.5723006097198347, 0.6048318807823172, 0.7643996474263228], 'error': [0.42639044002680365, 0.39414018480955604, 0.23511838353787035], 'precision': [0.5424135151873626, 0.5671537728779353, 0.7069576753786261], 'recall': [0.9629786286731968, 0.9088948787061994, 0.9084012849023968], 'f1': [0.6938666683925655, 0.6981589722357996, 0.7949545903569074]})\n",
      "defaultdict(<class 'list'>, {'auc': [0.5203552145081846, 0.5778631663458077, 0.690055278257112], 'error': [0.47790006368848786, 0.4206730518296023, 0.3088061397025172], 'precision': [0.512467781960071, 0.5461610197967216, 0.626695068655683], 'recall': [0.9852481616968957, 0.9704550090788828, 0.9553097275501917], 'f1': [0.6742185174218922, 0.6987119580655317, 0.7567121718380784]})\n"
     ]
    },
    {
     "name": "stderr",
     "output_type": "stream",
     "text": [
      "<ipython-input-1-8f90cbef799c>:16: DeprecationWarning: string or file could not be read to its end due to unmatched data; this will raise a ValueError in the future.\n",
      "  vec = np.fromstring(str_word_vec, dtype=float, sep=' ')\n"
     ]
    },
    {
     "name": "stdout",
     "output_type": "stream",
     "text": [
      "roc auc:  0.8128941530947401\n",
      "error:  0.18675034867503487\n",
      "f1:  0.831593510250283\n",
      "precision : 0.7593017914561323\n",
      "recall : 0.9190992493744787\n",
      "***********************\n",
      " predicted False  predicted True              \n",
      "            2525            1048  actual False\n",
      "             291            3306   actual True\n",
      "##################################################\n",
      "roc auc:  0.7307490950382374\n",
      "error:  0.2685522262671521\n",
      "f1:  0.7814992025518342\n",
      "precision : 0.6601231716705158\n",
      "recall : 0.9575656058068118\n",
      "***********************\n",
      " predicted False  predicted True              \n",
      "             897             883  actual False\n",
      "              76            1715   actual True\n"
     ]
    },
    {
     "name": "stderr",
     "output_type": "stream",
     "text": [
      "<ipython-input-1-8f90cbef799c>:16: DeprecationWarning: string or file could not be read to its end due to unmatched data; this will raise a ValueError in the future.\n",
      "  vec = np.fromstring(str_word_vec, dtype=float, sep=' ')\n"
     ]
    },
    {
     "name": "stdout",
     "output_type": "stream",
     "text": [
      "roc auc:  0.8197903514613704\n",
      "error:  0.1799163179916318\n",
      "f1:  0.8349961627014582\n",
      "precision : 0.7732764747690121\n",
      "recall : 0.9074228523769808\n",
      "***********************\n",
      " predicted False  predicted True              \n",
      "            2616             957  actual False\n",
      "             333            3264   actual True\n",
      "##################################################\n",
      "roc auc:  0.7577994794925051\n",
      "error:  0.24133109619686802\n",
      "f1:  0.7985057202895166\n",
      "precision : 0.6875753920386007\n",
      "recall : 0.9521158129175946\n",
      "***********************\n",
      " predicted False  predicted True              \n",
      "            1003             777  actual False\n",
      "              86            1710   actual True\n"
     ]
    },
    {
     "name": "stderr",
     "output_type": "stream",
     "text": [
      "<ipython-input-1-8f90cbef799c>:16: DeprecationWarning: string or file could not be read to its end due to unmatched data; this will raise a ValueError in the future.\n",
      "  vec = np.fromstring(str_word_vec, dtype=float, sep=' ')\n"
     ]
    },
    {
     "name": "stdout",
     "output_type": "stream",
     "text": [
      "roc auc:  0.820433087840016\n",
      "error:  0.1792189679218968\n",
      "f1:  0.8380592312539383\n",
      "precision : 0.7664822498847396\n",
      "recall : 0.9243814289685849\n",
      "***********************\n",
      " predicted False  predicted True              \n",
      "            2560            1013  actual False\n",
      "             272            3325   actual True\n",
      "##################################################\n",
      "roc auc:  0.724545391134624\n",
      "error:  0.27605321507760533\n",
      "f1:  0.7726027397260273\n",
      "precision : 0.6555598605191786\n",
      "recall : 0.9405225125069483\n",
      "***********************\n",
      " predicted False  predicted True              \n",
      "             920             889  actual False\n",
      "             107            1692   actual True\n"
     ]
    },
    {
     "name": "stderr",
     "output_type": "stream",
     "text": [
      "<ipython-input-1-8f90cbef799c>:16: DeprecationWarning: string or file could not be read to its end due to unmatched data; this will raise a ValueError in the future.\n",
      "  vec = np.fromstring(str_word_vec, dtype=float, sep=' ')\n"
     ]
    },
    {
     "name": "stdout",
     "output_type": "stream",
     "text": [
      "roc auc:  0.8292744186719644\n",
      "error:  0.1704323570432357\n",
      "f1:  0.8436940393962651\n",
      "precision : 0.781331438047856\n",
      "recall : 0.9168751737559077\n",
      "***********************\n",
      " predicted False  predicted True              \n",
      "            2650             923  actual False\n",
      "             299            3298   actual True\n",
      "##################################################\n",
      "roc auc:  0.7701331416628283\n",
      "error:  0.22753824756606397\n",
      "f1:  0.8109981515711645\n",
      "precision : 0.6994818652849741\n",
      "recall : 0.9648158328752061\n",
      "***********************\n",
      " predicted False  predicted True              \n",
      "            1022             754  actual False\n",
      "              64            1755   actual True\n"
     ]
    },
    {
     "name": "stderr",
     "output_type": "stream",
     "text": [
      "<ipython-input-1-8f90cbef799c>:16: DeprecationWarning: string or file could not be read to its end due to unmatched data; this will raise a ValueError in the future.\n",
      "  vec = np.fromstring(str_word_vec, dtype=float, sep=' ')\n"
     ]
    },
    {
     "name": "stdout",
     "output_type": "stream",
     "text": [
      "roc auc:  0.8188816270298951\n",
      "error:  0.18075313807531382\n",
      "f1:  0.8374310085298545\n",
      "precision : 0.7629714285714285\n",
      "recall : 0.9279955518487628\n",
      "***********************\n",
      " predicted False  predicted True              \n",
      "            2536            1037  actual False\n",
      "             259            3338   actual True\n",
      "##################################################\n",
      "roc auc:  0.7207496101909329\n",
      "error:  0.2770550788818157\n",
      "f1:  0.7754094682521875\n",
      "precision : 0.6562856057728826\n",
      "recall : 0.9473684210526315\n",
      "***********************\n",
      " predicted False  predicted True              \n",
      "             884             905  actual False\n",
      "              96            1728   actual True\n"
     ]
    },
    {
     "name": "stderr",
     "output_type": "stream",
     "text": [
      "<ipython-input-1-8f90cbef799c>:16: DeprecationWarning: string or file could not be read to its end due to unmatched data; this will raise a ValueError in the future.\n",
      "  vec = np.fromstring(str_word_vec, dtype=float, sep=' ')\n"
     ]
    },
    {
     "name": "stdout",
     "output_type": "stream",
     "text": [
      "roc auc:  0.8248905760864719\n",
      "error:  0.17475592747559274\n",
      "f1:  0.8423304391594313\n",
      "precision : 0.7694252873563219\n",
      "recall : 0.9304976369196553\n",
      "***********************\n",
      " predicted False  predicted True              \n",
      "            2570            1003  actual False\n",
      "             250            3347   actual True\n",
      "##################################################\n",
      "roc auc:  0.7456870963593324\n",
      "error:  0.2511325028312571\n",
      "f1:  0.7940561876015789\n",
      "precision : 0.6801909307875895\n",
      "recall : 0.9537088678192973\n",
      "***********************\n",
      " predicted False  predicted True              \n",
      "             935             804  actual False\n",
      "              83            1710   actual True\n"
     ]
    },
    {
     "name": "stderr",
     "output_type": "stream",
     "text": [
      "<ipython-input-1-8f90cbef799c>:16: DeprecationWarning: string or file could not be read to its end due to unmatched data; this will raise a ValueError in the future.\n",
      "  vec = np.fromstring(str_word_vec, dtype=float, sep=' ')\n"
     ]
    },
    {
     "name": "stdout",
     "output_type": "stream",
     "text": [
      "roc auc:  0.8182510287633575\n",
      "error:  0.18145048814504883\n",
      "f1:  0.8338229658960277\n",
      "precision : 0.7712665406427222\n",
      "recall : 0.9074228523769808\n",
      "***********************\n",
      " predicted False  predicted True              \n",
      "            2605             968  actual False\n",
      "             333            3264   actual True\n",
      "##################################################\n",
      "roc auc:  0.7487341361341667\n",
      "error:  0.2517541397698569\n",
      "f1:  0.7886925795053004\n",
      "precision : 0.6782820097244733\n",
      "recall : 0.9420371412492966\n",
      "***********************\n",
      " predicted False  predicted True              \n",
      "             992             794  actual False\n",
      "             103            1674   actual True\n"
     ]
    },
    {
     "name": "stderr",
     "output_type": "stream",
     "text": [
      "<ipython-input-1-8f90cbef799c>:16: DeprecationWarning: string or file could not be read to its end due to unmatched data; this will raise a ValueError in the future.\n",
      "  vec = np.fromstring(str_word_vec, dtype=float, sep=' ')\n"
     ]
    },
    {
     "name": "stdout",
     "output_type": "stream",
     "text": [
      "roc auc:  0.8178302797811499\n",
      "error:  0.1818688981868898\n",
      "f1:  0.83354608118458\n",
      "precision : 0.7705924002832193\n",
      "recall : 0.9077008618293022\n",
      "***********************\n",
      " predicted False  predicted True              \n",
      "            2601             972  actual False\n",
      "             332            3265   actual True\n",
      "##################################################\n",
      "roc auc:  0.7359429180608984\n",
      "error:  0.2634242339049761\n",
      "f1:  0.7817377125553227\n",
      "precision : 0.6687923475488242\n",
      "recall : 0.9405829596412556\n",
      "***********************\n",
      " predicted False  predicted True              \n",
      "             942             831  actual False\n",
      "             106            1678   actual True\n"
     ]
    },
    {
     "name": "stderr",
     "output_type": "stream",
     "text": [
      "<ipython-input-1-8f90cbef799c>:16: DeprecationWarning: string or file could not be read to its end due to unmatched data; this will raise a ValueError in the future.\n",
      "  vec = np.fromstring(str_word_vec, dtype=float, sep=' ')\n"
     ]
    },
    {
     "name": "stdout",
     "output_type": "stream",
     "text": [
      "roc auc:  0.8127504798639223\n",
      "error:  0.18688981868898186\n",
      "f1:  0.8316582914572864\n",
      "precision : 0.7586523034609214\n",
      "recall : 0.9202112871837642\n",
      "***********************\n",
      " predicted False  predicted True              \n",
      "            2520            1053  actual False\n",
      "             287            3310   actual True\n",
      "##################################################\n",
      "roc auc:  0.7334406393266026\n",
      "error:  0.26692781197537774\n",
      "f1:  0.7808911345888838\n",
      "precision : 0.6614785992217899\n",
      "recall : 0.952914798206278\n",
      "***********************\n",
      " predicted False  predicted True              \n",
      "             920             870  actual False\n",
      "              84            1700   actual True\n"
     ]
    },
    {
     "name": "stderr",
     "output_type": "stream",
     "text": [
      "<ipython-input-1-8f90cbef799c>:16: DeprecationWarning: string or file could not be read to its end due to unmatched data; this will raise a ValueError in the future.\n",
      "  vec = np.fromstring(str_word_vec, dtype=float, sep=' ')\n"
     ]
    },
    {
     "name": "stdout",
     "output_type": "stream",
     "text": [
      "roc auc:  0.8188443957052558\n",
      "error:  0.1808926080892608\n",
      "f1:  0.8327099187411326\n",
      "precision : 0.7767083734359962\n",
      "recall : 0.8974145120934112\n",
      "***********************\n",
      " predicted False  predicted True              \n",
      "            2645             928  actual False\n",
      "             369            3228   actual True\n",
      "##################################################\n",
      "roc auc:  0.7634557251345573\n",
      "error:  0.23659837215829357\n",
      "f1:  0.8016003765591904\n",
      "precision : 0.690032414910859\n",
      "recall : 0.9562043795620438\n",
      "***********************\n",
      " predicted False  predicted True              \n",
      "            1017             765  actual False\n",
      "              78            1703   actual True\n",
      "# New Domain Positive Pairs Percentage - test: 0.8\n",
      "defaultdict(<class 'list'>, {'auc': [0.5723006097198347, 0.6048318807823172, 0.7643996474263228, 0.8193840398298143], 'error': [0.42639044002680365, 0.39414018480955604, 0.23511838353787035, 0.1802928870292887], 'precision': [0.5424135151873626, 0.5671537728779353, 0.7069576753786261, 0.769000828790835], 'recall': [0.9629786286731968, 0.9088948787061994, 0.9084012849023968, 0.9159021406727829], 'f1': [0.6938666683925655, 0.6981589722357996, 0.7949545903569074, 0.8359841648570258]})\n",
      "defaultdict(<class 'list'>, {'auc': [0.5203552145081846, 0.5778631663458077, 0.690055278257112, 0.7431237232534685], 'error': [0.47790006368848786, 0.4206730518296023, 0.3088061397025172, 0.25603669246292665], 'precision': [0.512467781960071, 0.5461610197967216, 0.626695068655683, 0.6737802197479688], 'recall': [0.9852481616968957, 0.9704550090788828, 0.9553097275501917, 0.9507836331637364], 'f1': [0.6742185174218922, 0.6987119580655317, 0.7567121718380784, 0.7885993273201006]})\n"
     ]
    },
    {
     "name": "stderr",
     "output_type": "stream",
     "text": [
      "<ipython-input-1-8f90cbef799c>:16: DeprecationWarning: string or file could not be read to its end due to unmatched data; this will raise a ValueError in the future.\n",
      "  vec = np.fromstring(str_word_vec, dtype=float, sep=' ')\n"
     ]
    },
    {
     "name": "stdout",
     "output_type": "stream",
     "text": [
      "roc auc:  0.8387636233014175\n",
      "error:  0.1609561752988048\n",
      "f1:  0.8518627163391024\n",
      "precision : 0.7912806539509537\n",
      "recall : 0.9224904701397713\n",
      "***********************\n",
      " predicted False  predicted True              \n",
      "            2361             766  actual False\n",
      "             244            2904   actual True\n",
      "##################################################\n",
      "roc auc:  0.7597900598094838\n",
      "error:  0.24045801526717558\n",
      "f1:  0.7986148108684071\n",
      "precision : 0.6863553113553114\n",
      "recall : 0.9547770700636943\n",
      "***********************\n",
      " predicted False  predicted True              \n",
      "             889             685  actual False\n",
      "              71            1499   actual True\n"
     ]
    },
    {
     "name": "stderr",
     "output_type": "stream",
     "text": [
      "<ipython-input-1-8f90cbef799c>:16: DeprecationWarning: string or file could not be read to its end due to unmatched data; this will raise a ValueError in the future.\n",
      "  vec = np.fromstring(str_word_vec, dtype=float, sep=' ')\n"
     ]
    },
    {
     "name": "stdout",
     "output_type": "stream",
     "text": [
      "roc auc:  0.8463097467684214\n",
      "error:  0.15346613545816734\n",
      "f1:  0.8565469983613883\n",
      "precision : 0.8064516129032258\n",
      "recall : 0.9132782719186785\n",
      "***********************\n",
      " predicted False  predicted True              \n",
      "            2437             690  actual False\n",
      "             273            2875   actual True\n",
      "##################################################\n",
      "roc auc:  0.7762924208144797\n",
      "error:  0.22084524944391484\n",
      "f1:  0.8133225893096965\n",
      "precision : 0.7131417804992934\n",
      "recall : 0.94625\n",
      "***********************\n",
      " predicted False  predicted True              \n",
      "             938             609  actual False\n",
      "              86            1514   actual True\n"
     ]
    },
    {
     "name": "stderr",
     "output_type": "stream",
     "text": [
      "<ipython-input-1-8f90cbef799c>:16: DeprecationWarning: string or file could not be read to its end due to unmatched data; this will raise a ValueError in the future.\n",
      "  vec = np.fromstring(str_word_vec, dtype=float, sep=' ')\n"
     ]
    },
    {
     "name": "stdout",
     "output_type": "stream",
     "text": [
      "roc auc:  0.8417824790355265\n",
      "error:  0.15792828685258964\n",
      "f1:  0.8550109729334309\n",
      "precision : 0.7925142392188771\n",
      "recall : 0.9282083862770013\n",
      "***********************\n",
      " predicted False  predicted True              \n",
      "            2362             765  actual False\n",
      "             226            2922   actual True\n",
      "##################################################\n",
      "roc auc:  0.7657072677358763\n",
      "error:  0.23193061355605527\n",
      "f1:  0.8079787234042554\n",
      "precision : 0.6951945080091533\n",
      "recall : 0.9644444444444444\n",
      "***********************\n",
      " predicted False  predicted True              \n",
      "             872             666  actual False\n",
      "              56            1519   actual True\n"
     ]
    },
    {
     "name": "stderr",
     "output_type": "stream",
     "text": [
      "<ipython-input-1-8f90cbef799c>:16: DeprecationWarning: string or file could not be read to its end due to unmatched data; this will raise a ValueError in the future.\n",
      "  vec = np.fromstring(str_word_vec, dtype=float, sep=' ')\n"
     ]
    },
    {
     "name": "stdout",
     "output_type": "stream",
     "text": [
      "roc auc:  0.8330083740053126\n",
      "error:  0.16669322709163348\n",
      "f1:  0.8473438412142441\n",
      "precision : 0.7837473002159827\n",
      "recall : 0.9221728081321474\n",
      "***********************\n",
      " predicted False  predicted True              \n",
      "            2326             801  actual False\n",
      "             245            2903   actual True\n",
      "##################################################\n",
      "roc auc:  0.7432002193190426\n",
      "error:  0.2551480051480052\n",
      "f1:  0.7880245923549852\n",
      "precision : 0.6780128794848206\n",
      "recall : 0.9406509253350351\n",
      "***********************\n",
      " predicted False  predicted True              \n",
      "             841             700  actual False\n",
      "              93            1474   actual True\n"
     ]
    },
    {
     "name": "stderr",
     "output_type": "stream",
     "text": [
      "<ipython-input-1-8f90cbef799c>:16: DeprecationWarning: string or file could not be read to its end due to unmatched data; this will raise a ValueError in the future.\n",
      "  vec = np.fromstring(str_word_vec, dtype=float, sep=' ')\n"
     ]
    },
    {
     "name": "stdout",
     "output_type": "stream",
     "text": [
      "roc auc:  0.8391292850847376\n",
      "error:  0.1606374501992032\n",
      "f1:  0.8502228826151561\n",
      "precision : 0.798715801228364\n",
      "recall : 0.908831003811944\n",
      "***********************\n",
      " predicted False  predicted True              \n",
      "            2406             721  actual False\n",
      "             287            2861   actual True\n",
      "##################################################\n",
      "roc auc:  0.7592730713002628\n",
      "error:  0.23946360153256704\n",
      "f1:  0.7979525862068965\n",
      "precision : 0.6936768149882904\n",
      "recall : 0.9391249207355739\n",
      "***********************\n",
      " predicted False  predicted True              \n",
      "             901             654  actual False\n",
      "              96            1481   actual True\n"
     ]
    },
    {
     "name": "stderr",
     "output_type": "stream",
     "text": [
      "<ipython-input-1-8f90cbef799c>:16: DeprecationWarning: string or file could not be read to its end due to unmatched data; this will raise a ValueError in the future.\n",
      "  vec = np.fromstring(str_word_vec, dtype=float, sep=' ')\n"
     ]
    },
    {
     "name": "stdout",
     "output_type": "stream",
     "text": [
      "roc auc:  0.8389661874341972\n",
      "error:  0.16079681274900398\n",
      "f1:  0.8502300727326704\n",
      "precision : 0.7979938701588186\n",
      "recall : 0.9097839898348158\n",
      "***********************\n",
      " predicted False  predicted True              \n",
      "            2402             725  actual False\n",
      "             284            2864   actual True\n",
      "##################################################\n",
      "roc auc:  0.7632878398748683\n",
      "error:  0.23597306829111894\n",
      "f1:  0.8001086366105379\n",
      "precision : 0.696124763705104\n",
      "recall : 0.9406130268199234\n",
      "***********************\n",
      " predicted False  predicted True              \n",
      "             910             643  actual False\n",
      "              93            1473   actual True\n"
     ]
    },
    {
     "name": "stderr",
     "output_type": "stream",
     "text": [
      "<ipython-input-1-8f90cbef799c>:16: DeprecationWarning: string or file could not be read to its end due to unmatched data; this will raise a ValueError in the future.\n",
      "  vec = np.fromstring(str_word_vec, dtype=float, sep=' ')\n"
     ]
    },
    {
     "name": "stdout",
     "output_type": "stream",
     "text": [
      "roc auc:  0.8349207460211487\n",
      "error:  0.1647808764940239\n",
      "f1:  0.8490951546993578\n",
      "precision : 0.7853671706263499\n",
      "recall : 0.9240787801778907\n",
      "***********************\n",
      " predicted False  predicted True              \n",
      "            2332             795  actual False\n",
      "             239            2909   actual True\n",
      "##################################################\n",
      "roc auc:  0.7435820597342923\n",
      "error:  0.255701895277867\n",
      "f1:  0.7878464818763327\n",
      "precision : 0.6748858447488585\n",
      "recall : 0.9462227912932138\n",
      "***********************\n",
      " predicted False  predicted True              \n",
      "             839             712  actual False\n",
      "              84            1478   actual True\n"
     ]
    },
    {
     "name": "stderr",
     "output_type": "stream",
     "text": [
      "<ipython-input-1-8f90cbef799c>:16: DeprecationWarning: string or file could not be read to its end due to unmatched data; this will raise a ValueError in the future.\n",
      "  vec = np.fromstring(str_word_vec, dtype=float, sep=' ')\n"
     ]
    },
    {
     "name": "stdout",
     "output_type": "stream",
     "text": [
      "roc auc:  0.8321886191058815\n",
      "error:  0.16749003984063746\n",
      "f1:  0.8475707034082669\n",
      "precision : 0.7798238590872698\n",
      "recall : 0.9282083862770013\n",
      "***********************\n",
      " predicted False  predicted True              \n",
      "            2302             825  actual False\n",
      "             226            2922   actual True\n",
      "##################################################\n",
      "roc auc:  0.7468253736867211\n",
      "error:  0.25389755011135856\n",
      "f1:  0.7891120507399578\n",
      "precision : 0.6731289449954915\n",
      "recall : 0.9533844189016603\n",
      "***********************\n",
      " predicted False  predicted True              \n",
      "             852             725  actual False\n",
      "              73            1493   actual True\n"
     ]
    },
    {
     "name": "stderr",
     "output_type": "stream",
     "text": [
      "<ipython-input-1-8f90cbef799c>:16: DeprecationWarning: string or file could not be read to its end due to unmatched data; this will raise a ValueError in the future.\n",
      "  vec = np.fromstring(str_word_vec, dtype=float, sep=' ')\n"
     ]
    },
    {
     "name": "stdout",
     "output_type": "stream",
     "text": [
      "roc auc:  0.8370015489959362\n",
      "error:  0.16270916334661353\n",
      "f1:  0.8506217995610826\n",
      "precision : 0.7884458909682669\n",
      "recall : 0.9234434561626429\n",
      "***********************\n",
      " predicted False  predicted True              \n",
      "            2347             780  actual False\n",
      "             241            2907   actual True\n",
      "##################################################\n",
      "roc auc:  0.7477592829705506\n",
      "error:  0.25224071702944945\n",
      "f1:  0.7897545357524013\n",
      "precision : 0.6770356816102471\n",
      "recall : 0.9475032010243278\n",
      "***********************\n",
      " predicted False  predicted True              \n",
      "             856             706  actual False\n",
      "              82            1480   actual True\n"
     ]
    },
    {
     "name": "stderr",
     "output_type": "stream",
     "text": [
      "<ipython-input-1-8f90cbef799c>:16: DeprecationWarning: string or file could not be read to its end due to unmatched data; this will raise a ValueError in the future.\n",
      "  vec = np.fromstring(str_word_vec, dtype=float, sep=' ')\n"
     ]
    },
    {
     "name": "stdout",
     "output_type": "stream",
     "text": [
      "roc auc:  0.8318464238795684\n",
      "error:  0.16780876494023905\n",
      "f1:  0.8482490272373541\n",
      "precision : 0.7763123186494328\n",
      "recall : 0.9348792884371029\n",
      "***********************\n",
      " predicted False  predicted True              \n",
      "            2279             848  actual False\n",
      "             205            2943   actual True\n",
      "##################################################\n",
      "roc auc:  0.7239991872733882\n",
      "error:  0.2755754475703325\n",
      "f1:  0.7746994249869316\n",
      "precision : 0.6560424966799469\n",
      "recall : 0.9457562220804084\n",
      "***********************\n",
      " predicted False  predicted True              \n",
      "             784             777  actual False\n",
      "              85            1482   actual True\n",
      "# New Domain Positive Pairs Percentage - test: 0.7\n",
      "defaultdict(<class 'list'>, {'auc': [0.5723006097198347, 0.6048318807823172, 0.7643996474263228, 0.8193840398298143, 0.8373917033632148], 'error': [0.42639044002680365, 0.39414018480955604, 0.23511838353787035, 0.1802928870292887, 0.16232669322709165], 'precision': [0.5424135151873626, 0.5671537728779353, 0.7069576753786261, 0.769000828790835, 0.7900652717007541], 'recall': [0.9629786286731968, 0.9088948787061994, 0.9084012849023968, 0.9159021406727829, 0.9215374841168996], 'f1': [0.6938666683925655, 0.6981589722357996, 0.7949545903569074, 0.8359841648570258, 0.8506754169102053]})\n",
      "defaultdict(<class 'list'>, {'auc': [0.5203552145081846, 0.5778631663458077, 0.690055278257112, 0.7431237232534685, 0.7529716782518966], 'error': [0.47790006368848786, 0.4206730518296023, 0.3088061397025172, 0.25603669246292665, 0.24612341632278445], 'precision': [0.512467781960071, 0.5461610197967216, 0.626695068655683, 0.6737802197479688, 0.6843599026076517], 'recall': [0.9852481616968957, 0.9704550090788828, 0.9553097275501917, 0.9507836331637364, 0.9478727020698281], 'f1': [0.6742185174218922, 0.6987119580655317, 0.7567121718380784, 0.7885993273201006, 0.7947414432110402]})\n"
     ]
    },
    {
     "name": "stderr",
     "output_type": "stream",
     "text": [
      "<ipython-input-1-8f90cbef799c>:16: DeprecationWarning: string or file could not be read to its end due to unmatched data; this will raise a ValueError in the future.\n",
      "  vec = np.fromstring(str_word_vec, dtype=float, sep=' ')\n"
     ]
    },
    {
     "name": "stdout",
     "output_type": "stream",
     "text": [
      "roc auc:  0.8558285297013819\n",
      "error:  0.14391967274079584\n",
      "f1:  0.8665056916177992\n",
      "precision : 0.8103225806451613\n",
      "recall : 0.9310600444773907\n",
      "***********************\n",
      " predicted False  predicted True              \n",
      "            2092             588  actual False\n",
      "             186            2512   actual True\n",
      "##################################################\n",
      "roc auc:  0.7728031804679735\n",
      "error:  0.22780067440989135\n",
      "f1:  0.8063694267515923\n",
      "precision : 0.6994475138121546\n",
      "recall : 0.9518796992481203\n",
      "***********************\n",
      " predicted False  predicted True              \n",
      "             795             544  actual False\n",
      "              64            1266   actual True\n"
     ]
    },
    {
     "name": "stderr",
     "output_type": "stream",
     "text": [
      "<ipython-input-1-8f90cbef799c>:16: DeprecationWarning: string or file could not be read to its end due to unmatched data; this will raise a ValueError in the future.\n",
      "  vec = np.fromstring(str_word_vec, dtype=float, sep=' ')\n"
     ]
    },
    {
     "name": "stdout",
     "output_type": "stream",
     "text": [
      "roc auc:  0.8508086421119015\n",
      "error:  0.14894012644105614\n",
      "f1:  0.8618250819389338\n",
      "precision : 0.8060664730558245\n",
      "recall : 0.9258710155670867\n",
      "***********************\n",
      " predicted False  predicted True              \n",
      "            2079             601  actual False\n",
      "             200            2498   actual True\n",
      "##################################################\n",
      "roc auc:  0.7656170597971992\n",
      "error:  0.23357933579335793\n",
      "f1:  0.8028651510432887\n",
      "precision : 0.6967567567567567\n",
      "recall : 0.9470977222630419\n",
      "***********************\n",
      " predicted False  predicted True              \n",
      "             788             561  actual False\n",
      "              72            1289   actual True\n"
     ]
    },
    {
     "name": "stderr",
     "output_type": "stream",
     "text": [
      "<ipython-input-1-8f90cbef799c>:16: DeprecationWarning: string or file could not be read to its end due to unmatched data; this will raise a ValueError in the future.\n",
      "  vec = np.fromstring(str_word_vec, dtype=float, sep=' ')\n"
     ]
    },
    {
     "name": "stdout",
     "output_type": "stream",
     "text": [
      "roc auc:  0.8521594215726409\n",
      "error:  0.14763852733358127\n",
      "f1:  0.8611402588317593\n",
      "precision : 0.8152317880794702\n",
      "recall : 0.9125277983691623\n",
      "***********************\n",
      " predicted False  predicted True              \n",
      "            2122             558  actual False\n",
      "             236            2462   actual True\n",
      "##################################################\n",
      "roc auc:  0.778920165394402\n",
      "error:  0.21891484551620197\n",
      "f1:  0.8143176733780761\n",
      "precision : 0.7137254901960784\n",
      "recall : 0.9479166666666666\n",
      "***********************\n",
      " predicted False  predicted True              \n",
      "             799             511  actual False\n",
      "              70            1274   actual True\n"
     ]
    },
    {
     "name": "stderr",
     "output_type": "stream",
     "text": [
      "<ipython-input-1-8f90cbef799c>:16: DeprecationWarning: string or file could not be read to its end due to unmatched data; this will raise a ValueError in the future.\n",
      "  vec = np.fromstring(str_word_vec, dtype=float, sep=' ')\n"
     ]
    },
    {
     "name": "stdout",
     "output_type": "stream",
     "text": [
      "roc auc:  0.8530536715975349\n",
      "error:  0.1467088136853849\n",
      "f1:  0.8633766233766235\n",
      "precision : 0.810204744881378\n",
      "recall : 0.9240177909562639\n",
      "***********************\n",
      " predicted False  predicted True              \n",
      "            2096             584  actual False\n",
      "             205            2493   actual True\n",
      "##################################################\n",
      "roc auc:  0.7763213427791337\n",
      "error:  0.22414441519368183\n",
      "f1:  0.8092189500640206\n",
      "precision : 0.7030033370411568\n",
      "recall : 0.9532428355957768\n",
      "***********************\n",
      " predicted False  predicted True              \n",
      "             799             534  actual False\n",
      "              62            1264   actual True\n"
     ]
    },
    {
     "name": "stderr",
     "output_type": "stream",
     "text": [
      "<ipython-input-1-8f90cbef799c>:16: DeprecationWarning: string or file could not be read to its end due to unmatched data; this will raise a ValueError in the future.\n",
      "  vec = np.fromstring(str_word_vec, dtype=float, sep=' ')\n"
     ]
    },
    {
     "name": "stdout",
     "output_type": "stream",
     "text": [
      "roc auc:  0.8498695827755219\n",
      "error:  0.1498698400892525\n",
      "f1:  0.8613214039917413\n",
      "precision : 0.8037893384714194\n",
      "recall : 0.9277242401779096\n",
      "***********************\n",
      " predicted False  predicted True              \n",
      "            2069             611  actual False\n",
      "             195            2503   actual True\n",
      "##################################################\n",
      "roc auc:  0.768022728009597\n",
      "error:  0.22932745314222713\n",
      "f1:  0.8082360172095882\n",
      "precision : 0.7017075773745998\n",
      "recall : 0.9528985507246377\n",
      "***********************\n",
      " predicted False  predicted True              \n",
      "             782             559  actual False\n",
      "              65            1315   actual True\n"
     ]
    },
    {
     "name": "stderr",
     "output_type": "stream",
     "text": [
      "<ipython-input-1-8f90cbef799c>:16: DeprecationWarning: string or file could not be read to its end due to unmatched data; this will raise a ValueError in the future.\n",
      "  vec = np.fromstring(str_word_vec, dtype=float, sep=' ')\n"
     ]
    },
    {
     "name": "stdout",
     "output_type": "stream",
     "text": [
      "roc auc:  0.8584255335627275\n",
      "error:  0.14131647452584603\n",
      "f1:  0.869146005509642\n",
      "precision : 0.8115755627009646\n",
      "recall : 0.9355077835433655\n",
      "***********************\n",
      " predicted False  predicted True              \n",
      "            2094             586  actual False\n",
      "             174            2524   actual True\n",
      "##################################################\n",
      "roc auc:  0.7855213953590384\n",
      "error:  0.21325435024065162\n",
      "f1:  0.8192090395480226\n",
      "precision : 0.7146768893756845\n",
      "recall : 0.9595588235294118\n",
      "***********************\n",
      " predicted False  predicted True              \n",
      "             820             521  actual False\n",
      "              55            1305   actual True\n"
     ]
    },
    {
     "name": "stderr",
     "output_type": "stream",
     "text": [
      "<ipython-input-1-8f90cbef799c>:16: DeprecationWarning: string or file could not be read to its end due to unmatched data; this will raise a ValueError in the future.\n",
      "  vec = np.fromstring(str_word_vec, dtype=float, sep=' ')\n"
     ]
    },
    {
     "name": "stdout",
     "output_type": "stream",
     "text": [
      "roc auc:  0.8611171348594315\n",
      "error:  0.13871327631089625\n",
      "f1:  0.8683374514648782\n",
      "precision : 0.8288409703504043\n",
      "recall : 0.9117865085248332\n",
      "***********************\n",
      " predicted False  predicted True              \n",
      "            2172             508  actual False\n",
      "             238            2460   actual True\n",
      "##################################################\n",
      "roc auc:  0.7923274694700561\n",
      "error:  0.20733532934131738\n",
      "f1:  0.8200129954515919\n",
      "precision : 0.7257044278320874\n",
      "recall : 0.9424943988050785\n",
      "***********************\n",
      " predicted False  predicted True              \n",
      "             856             477  actual False\n",
      "              77            1262   actual True\n"
     ]
    },
    {
     "name": "stderr",
     "output_type": "stream",
     "text": [
      "<ipython-input-1-8f90cbef799c>:16: DeprecationWarning: string or file could not be read to its end due to unmatched data; this will raise a ValueError in the future.\n",
      "  vec = np.fromstring(str_word_vec, dtype=float, sep=' ')\n"
     ]
    },
    {
     "name": "stdout",
     "output_type": "stream",
     "text": [
      "roc auc:  0.858658154741489\n",
      "error:  0.14113053179620677\n",
      "f1:  0.8676085818942962\n",
      "precision : 0.8194398682042834\n",
      "recall : 0.9217939214232765\n",
      "***********************\n",
      " predicted False  predicted True              \n",
      "            2132             548  actual False\n",
      "             211            2487   actual True\n",
      "##################################################\n",
      "roc auc:  0.7852988459065218\n",
      "error:  0.21366879459256477\n",
      "f1:  0.8168651432249758\n",
      "precision : 0.7181663837011885\n",
      "recall : 0.9470149253731344\n",
      "***********************\n",
      " predicted False  predicted True              \n",
      "             825             498  actual False\n",
      "              71            1269   actual True\n"
     ]
    },
    {
     "name": "stderr",
     "output_type": "stream",
     "text": [
      "<ipython-input-1-8f90cbef799c>:16: DeprecationWarning: string or file could not be read to its end due to unmatched data; this will raise a ValueError in the future.\n",
      "  vec = np.fromstring(str_word_vec, dtype=float, sep=' ')\n"
     ]
    },
    {
     "name": "stdout",
     "output_type": "stream",
     "text": [
      "roc auc:  0.8533782625051172\n",
      "error:  0.14633692822610636\n",
      "f1:  0.8654930781063066\n",
      "precision : 0.8030447193149381\n",
      "recall : 0.938472942920682\n",
      "***********************\n",
      " predicted False  predicted True              \n",
      "            2059             621  actual False\n",
      "             166            2532   actual True\n",
      "##################################################\n",
      "roc auc:  0.7580307504877053\n",
      "error:  0.24044526901669758\n",
      "f1:  0.7998764669549103\n",
      "precision : 0.6888297872340425\n",
      "recall : 0.9536082474226805\n",
      "***********************\n",
      " predicted False  predicted True              \n",
      "             752             585  actual False\n",
      "              63            1295   actual True\n"
     ]
    },
    {
     "name": "stderr",
     "output_type": "stream",
     "text": [
      "<ipython-input-1-8f90cbef799c>:16: DeprecationWarning: string or file could not be read to its end due to unmatched data; this will raise a ValueError in the future.\n",
      "  vec = np.fromstring(str_word_vec, dtype=float, sep=' ')\n"
     ]
    },
    {
     "name": "stdout",
     "output_type": "stream",
     "text": [
      "roc auc:  0.8501270980162199\n",
      "error:  0.14968389735961324\n",
      "f1:  0.8586975601193612\n",
      "precision : 0.8156052017339113\n",
      "recall : 0.9065974796145293\n",
      "***********************\n",
      " predicted False  predicted True              \n",
      "            2127             553  actual False\n",
      "             252            2446   actual True\n",
      "##################################################\n",
      "roc auc:  0.780376163044289\n",
      "error:  0.22172115745960166\n",
      "f1:  0.8070634401569654\n",
      "precision : 0.707163323782235\n",
      "recall : 0.9398324447829398\n",
      "***********************\n",
      " predicted False  predicted True              \n",
      "             837             511  actual False\n",
      "              79            1234   actual True\n",
      "# New Domain Positive Pairs Percentage - test: 0.6\n",
      "defaultdict(<class 'list'>, {'auc': [0.5723006097198347, 0.6048318807823172, 0.7643996474263228, 0.8193840398298143, 0.8373917033632148, 0.8543426031443966], 'error': [0.42639044002680365, 0.39414018480955604, 0.23511838353787035, 0.1802928870292887, 0.16232669322709165, 0.14542580885087392], 'precision': [0.5424135151873626, 0.5671537728779353, 0.7069576753786261, 0.769000828790835, 0.7900652717007541, 0.8124121247437754], 'recall': [0.9629786286731968, 0.9088948787061994, 0.9084012849023968, 0.9159021406727829, 0.9215374841168996, 0.92353595255745], 'f1': [0.6938666683925655, 0.6981589722357996, 0.7949545903569074, 0.8359841648570258, 0.8506754169102053, 0.8643451736851341]})\n",
      "defaultdict(<class 'list'>, {'auc': [0.5203552145081846, 0.5778631663458077, 0.690055278257112, 0.7431237232534685, 0.7529716782518966, 0.7763239100715916], 'error': [0.47790006368848786, 0.4206730518296023, 0.3088061397025172, 0.25603669246292665, 0.24612341632278445, 0.22301916247061931], 'precision': [0.512467781960071, 0.5461610197967216, 0.626695068655683, 0.6737802197479688, 0.6843599026076517, 0.7069181487105984], 'recall': [0.9852481616968957, 0.9704550090788828, 0.9553097275501917, 0.9507836331637364, 0.9478727020698281, 0.9495544314411488], 'f1': [0.6742185174218922, 0.6987119580655317, 0.7567121718380784, 0.7885993273201006, 0.7947414432110402, 0.8104034303783032]})\n"
     ]
    },
    {
     "name": "stderr",
     "output_type": "stream",
     "text": [
      "<ipython-input-1-8f90cbef799c>:16: DeprecationWarning: string or file could not be read to its end due to unmatched data; this will raise a ValueError in the future.\n",
      "  vec = np.fromstring(str_word_vec, dtype=float, sep=' ')\n"
     ]
    },
    {
     "name": "stdout",
     "output_type": "stream",
     "text": [
      "roc auc:  0.862994702560907\n",
      "error:  0.13679982146842223\n",
      "f1:  0.8714615223317256\n",
      "precision : 0.8242760809202697\n",
      "recall : 0.9243772241992882\n",
      "***********************\n",
      " predicted False  predicted True              \n",
      "            1790             443  actual False\n",
      "             170            2078   actual True\n",
      "##################################################\n",
      "roc auc:  0.7902809343434343\n",
      "error:  0.20603907637655416\n",
      "f1:  0.8250377073906485\n",
      "precision : 0.7293333333333333\n",
      "recall : 0.9496527777777778\n",
      "***********************\n",
      " predicted False  predicted True              \n",
      "             694             406  actual False\n",
      "              58            1094   actual True\n"
     ]
    },
    {
     "name": "stderr",
     "output_type": "stream",
     "text": [
      "<ipython-input-1-8f90cbef799c>:16: DeprecationWarning: string or file could not be read to its end due to unmatched data; this will raise a ValueError in the future.\n",
      "  vec = np.fromstring(str_word_vec, dtype=float, sep=' ')\n"
     ]
    },
    {
     "name": "stdout",
     "output_type": "stream",
     "text": [
      "roc auc:  0.8683581803519834\n",
      "error:  0.13144387413523767\n",
      "f1:  0.8762345030468586\n",
      "precision : 0.8303464755077659\n",
      "recall : 0.927491103202847\n",
      "***********************\n",
      " predicted False  predicted True              \n",
      "            1807             426  actual False\n",
      "             163            2085   actual True\n",
      "##################################################\n",
      "roc auc:  0.7970098689055825\n",
      "error:  0.20443238353686116\n",
      "f1:  0.8213438735177866\n",
      "precision : 0.7240418118466899\n",
      "recall : 0.9488584474885845\n",
      "***********************\n",
      " predicted False  predicted True              \n",
      "             720             396  actual False\n",
      "              56            1039   actual True\n"
     ]
    },
    {
     "name": "stderr",
     "output_type": "stream",
     "text": [
      "<ipython-input-1-8f90cbef799c>:16: DeprecationWarning: string or file could not be read to its end due to unmatched data; this will raise a ValueError in the future.\n",
      "  vec = np.fromstring(str_word_vec, dtype=float, sep=' ')\n"
     ]
    },
    {
     "name": "stdout",
     "output_type": "stream",
     "text": [
      "roc auc:  0.8542486091034993\n",
      "error:  0.14550323588484712\n",
      "f1:  0.8648984666390386\n",
      "precision : 0.8095422808378588\n",
      "recall : 0.9283807829181495\n",
      "***********************\n",
      " predicted False  predicted True              \n",
      "            1742             491  actual False\n",
      "             161            2087   actual True\n",
      "##################################################\n",
      "roc auc:  0.7586346869981117\n",
      "error:  0.24048365427675772\n",
      "f1:  0.7966679288148429\n",
      "precision : 0.6925608953258723\n",
      "recall : 0.9376114081996435\n",
      "***********************\n",
      " predicted False  predicted True              \n",
      "             644             467  actual False\n",
      "              70            1052   actual True\n"
     ]
    },
    {
     "name": "stderr",
     "output_type": "stream",
     "text": [
      "<ipython-input-1-8f90cbef799c>:16: DeprecationWarning: string or file could not be read to its end due to unmatched data; this will raise a ValueError in the future.\n",
      "  vec = np.fromstring(str_word_vec, dtype=float, sep=' ')\n"
     ]
    },
    {
     "name": "stdout",
     "output_type": "stream",
     "text": [
      "roc auc:  0.8569833881298478\n",
      "error:  0.14282526221825487\n",
      "f1:  0.8652631578947368\n",
      "precision : 0.8213429256594724\n",
      "recall : 0.9141459074733096\n",
      "***********************\n",
      " predicted False  predicted True              \n",
      "            1786             447  actual False\n",
      "             193            2055   actual True\n",
      "##################################################\n",
      "roc auc:  0.7844807722170183\n",
      "error:  0.21379625399725902\n",
      "f1:  0.8176149649259548\n",
      "precision : 0.7184931506849315\n",
      "recall : 0.9484629294755877\n",
      "***********************\n",
      " predicted False  predicted True              \n",
      "             672             411  actual False\n",
      "              57            1049   actual True\n"
     ]
    },
    {
     "name": "stderr",
     "output_type": "stream",
     "text": [
      "<ipython-input-1-8f90cbef799c>:16: DeprecationWarning: string or file could not be read to its end due to unmatched data; this will raise a ValueError in the future.\n",
      "  vec = np.fromstring(str_word_vec, dtype=float, sep=' ')\n"
     ]
    },
    {
     "name": "stdout",
     "output_type": "stream",
     "text": [
      "roc auc:  0.8598763412927727\n",
      "error:  0.13992412407944654\n",
      "f1:  0.8683049779458097\n",
      "precision : 0.8225228810187027\n",
      "recall : 0.9194839857651246\n",
      "***********************\n",
      " predicted False  predicted True              \n",
      "            1787             446  actual False\n",
      "             181            2067   actual True\n",
      "##################################################\n",
      "roc auc:  0.7828801277258391\n",
      "error:  0.2146057347670251\n",
      "f1:  0.8176627331556909\n",
      "precision : 0.7188755020080321\n",
      "recall : 0.9479258605472197\n",
      "***********************\n",
      " predicted False  predicted True              \n",
      "             679             420  actual False\n",
      "              59            1074   actual True\n"
     ]
    },
    {
     "name": "stderr",
     "output_type": "stream",
     "text": [
      "<ipython-input-1-8f90cbef799c>:16: DeprecationWarning: string or file could not be read to its end due to unmatched data; this will raise a ValueError in the future.\n",
      "  vec = np.fromstring(str_word_vec, dtype=float, sep=' ')\n"
     ]
    },
    {
     "name": "stdout",
     "output_type": "stream",
     "text": [
      "roc auc:  0.8484313269256207\n",
      "error:  0.15130551216246374\n",
      "f1:  0.8600907965332233\n",
      "precision : 0.8021555042340262\n",
      "recall : 0.9270462633451957\n",
      "***********************\n",
      " predicted False  predicted True              \n",
      "            1719             514  actual False\n",
      "             164            2084   actual True\n",
      "##################################################\n",
      "roc auc:  0.7510277212076698\n",
      "error:  0.24806201550387597\n",
      "f1:  0.7897810218978102\n",
      "precision : 0.687857596948506\n",
      "recall : 0.9271636675235647\n",
      "***********************\n",
      " predicted False  predicted True              \n",
      "             664             491  actual False\n",
      "              85            1082   actual True\n"
     ]
    },
    {
     "name": "stderr",
     "output_type": "stream",
     "text": [
      "<ipython-input-1-8f90cbef799c>:16: DeprecationWarning: string or file could not be read to its end due to unmatched data; this will raise a ValueError in the future.\n",
      "  vec = np.fromstring(str_word_vec, dtype=float, sep=' ')\n"
     ]
    },
    {
     "name": "stdout",
     "output_type": "stream",
     "text": [
      "roc auc:  0.8596912735687432\n",
      "error:  0.14014728855166259\n",
      "f1:  0.8666666666666667\n",
      "precision : 0.8290008123476849\n",
      "recall : 0.9079181494661922\n",
      "***********************\n",
      " predicted False  predicted True              \n",
      "            1812             421  actual False\n",
      "             207            2041   actual True\n",
      "##################################################\n",
      "roc auc:  0.7910052910052909\n",
      "error:  0.20714285714285716\n",
      "f1:  0.8211256746337703\n",
      "precision : 0.7294520547945206\n",
      "recall : 0.9391534391534392\n",
      "***********************\n",
      " predicted False  predicted True              \n",
      "             711             395  actual False\n",
      "              69            1065   actual True\n"
     ]
    },
    {
     "name": "stderr",
     "output_type": "stream",
     "text": [
      "<ipython-input-1-8f90cbef799c>:16: DeprecationWarning: string or file could not be read to its end due to unmatched data; this will raise a ValueError in the future.\n",
      "  vec = np.fromstring(str_word_vec, dtype=float, sep=' ')\n"
     ]
    },
    {
     "name": "stdout",
     "output_type": "stream",
     "text": [
      "roc auc:  0.8618437566237911\n",
      "error:  0.13791564382950233\n",
      "f1:  0.8716777408637875\n",
      "precision : 0.817367601246106\n",
      "recall : 0.9337188612099644\n",
      "***********************\n",
      " predicted False  predicted True              \n",
      "            1764             469  actual False\n",
      "             149            2099   actual True\n",
      "##################################################\n",
      "roc auc:  0.7747764499464815\n",
      "error:  0.22192513368983957\n",
      "f1:  0.813622754491018\n",
      "precision : 0.7109221713538261\n",
      "recall : 0.9510061242344707\n",
      "***********************\n",
      " predicted False  predicted True              \n",
      "             659             442  actual False\n",
      "              56            1087   actual True\n"
     ]
    },
    {
     "name": "stderr",
     "output_type": "stream",
     "text": [
      "<ipython-input-1-8f90cbef799c>:16: DeprecationWarning: string or file could not be read to its end due to unmatched data; this will raise a ValueError in the future.\n",
      "  vec = np.fromstring(str_word_vec, dtype=float, sep=' ')\n"
     ]
    },
    {
     "name": "stdout",
     "output_type": "stream",
     "text": [
      "roc auc:  0.846420583037039\n",
      "error:  0.15331399241240795\n",
      "f1:  0.8583213033615178\n",
      "precision : 0.800076893502499\n",
      "recall : 0.925711743772242\n",
      "***********************\n",
      " predicted False  predicted True              \n",
      "            1713             520  actual False\n",
      "             167            2081   actual True\n",
      "##################################################\n",
      "roc auc:  0.7484599189020587\n",
      "error:  0.24944812362030905\n",
      "f1:  0.7917434574272024\n",
      "precision : 0.6849489795918368\n",
      "recall : 0.9379912663755459\n",
      "***********************\n",
      " predicted False  predicted True              \n",
      "             626             494  actual False\n",
      "              71            1074   actual True\n"
     ]
    },
    {
     "name": "stderr",
     "output_type": "stream",
     "text": [
      "<ipython-input-1-8f90cbef799c>:16: DeprecationWarning: string or file could not be read to its end due to unmatched data; this will raise a ValueError in the future.\n",
      "  vec = np.fromstring(str_word_vec, dtype=float, sep=' ')\n"
     ]
    },
    {
     "name": "stdout",
     "output_type": "stream",
     "text": [
      "roc auc:  0.870140527958972\n",
      "error:  0.12965855835750947\n",
      "f1:  0.8780180558471551\n",
      "precision : 0.8314115308151093\n",
      "recall : 0.9301601423487544\n",
      "***********************\n",
      " predicted False  predicted True              \n",
      "            1809             424  actual False\n",
      "             157            2091   actual True\n",
      "##################################################\n",
      "roc auc:  0.8050244014486688\n",
      "error:  0.19556541019955653\n",
      "f1:  0.8291359938008525\n",
      "precision : 0.7338820301783264\n",
      "recall : 0.9528049866429208\n",
      "***********************\n",
      " predicted False  predicted True              \n",
      "             744             388  actual False\n",
      "              53            1070   actual True\n",
      "# New Domain Positive Pairs Percentage - test: 0.5\n",
      "defaultdict(<class 'list'>, {'auc': [0.5723006097198347, 0.6048318807823172, 0.7643996474263228, 0.8193840398298143, 0.8373917033632148, 0.8543426031443966, 0.8588988689553176], 'error': [0.42639044002680365, 0.39414018480955604, 0.23511838353787035, 0.1802928870292887, 0.16232669322709165, 0.14542580885087392, 0.14088373130997545], 'precision': [0.5424135151873626, 0.5671537728779353, 0.7069576753786261, 0.769000828790835, 0.7900652717007541, 0.8124121247437754, 0.8188042986089494], 'recall': [0.9629786286731968, 0.9088948787061994, 0.9084012849023968, 0.9159021406727829, 0.9215374841168996, 0.92353595255745, 0.9238434163701068], 'f1': [0.6938666683925655, 0.6981589722357996, 0.7949545903569074, 0.8359841648570258, 0.8506754169102053, 0.8643451736851341, 0.868093719113052]})\n",
      "defaultdict(<class 'list'>, {'auc': [0.5203552145081846, 0.5778631663458077, 0.690055278257112, 0.7431237232534685, 0.7529716782518966, 0.7763239100715916, 0.7783580172700155], 'error': [0.47790006368848786, 0.4206730518296023, 0.3088061397025172, 0.25603669246292665, 0.24612341632278445, 0.22301916247061931, 0.22015006431108955], 'precision': [0.512467781960071, 0.5461610197967216, 0.626695068655683, 0.6737802197479688, 0.6843599026076517, 0.7069181487105984, 0.7130367526065875], 'recall': [0.9852481616968957, 0.9704550090788828, 0.9553097275501917, 0.9507836331637364, 0.9478727020698281, 0.9495544314411488, 0.9440630907418754], 'f1': [0.6742185174218922, 0.6987119580655317, 0.7567121718380784, 0.7885993273201006, 0.7947414432110402, 0.8104034303783032, 0.8123736110055577]})\n"
     ]
    },
    {
     "name": "stderr",
     "output_type": "stream",
     "text": [
      "<ipython-input-1-8f90cbef799c>:16: DeprecationWarning: string or file could not be read to its end due to unmatched data; this will raise a ValueError in the future.\n",
      "  vec = np.fromstring(str_word_vec, dtype=float, sep=' ')\n"
     ]
    },
    {
     "name": "stdout",
     "output_type": "stream",
     "text": [
      "roc auc:  0.8701848287909747\n",
      "error:  0.12967094255437814\n",
      "f1:  0.8760330578512395\n",
      "precision : 0.8417008196721312\n",
      "recall : 0.9132851584213452\n",
      "***********************\n",
      " predicted False  predicted True              \n",
      "            1478             309  actual False\n",
      "             156            1643   actual True\n",
      "##################################################\n",
      "roc auc:  0.7982338573859679\n",
      "error:  0.20145903479236812\n",
      "f1:  0.823065549531789\n",
      "precision : 0.7350352112676056\n",
      "recall : 0.93505039193729\n",
      "***********************\n",
      " predicted False  predicted True              \n",
      "             588             301  actual False\n",
      "              58             835   actual True\n"
     ]
    },
    {
     "name": "stderr",
     "output_type": "stream",
     "text": [
      "<ipython-input-1-8f90cbef799c>:16: DeprecationWarning: string or file could not be read to its end due to unmatched data; this will raise a ValueError in the future.\n",
      "  vec = np.fromstring(str_word_vec, dtype=float, sep=' ')\n"
     ]
    },
    {
     "name": "stdout",
     "output_type": "stream",
     "text": [
      "roc auc:  0.8665231850188487\n",
      "error:  0.13329615170105968\n",
      "f1:  0.8738786279683377\n",
      "precision : 0.8317428427925665\n",
      "recall : 0.9205113952195664\n",
      "***********************\n",
      " predicted False  predicted True              \n",
      "            1452             335  actual False\n",
      "             143            1656   actual True\n",
      "##################################################\n",
      "roc auc:  0.7912946428571429\n",
      "error:  0.20870535714285715\n",
      "f1:  0.818798449612403\n",
      "precision : 0.723458904109589\n",
      "recall : 0.9430803571428571\n",
      "***********************\n",
      " predicted False  predicted True              \n",
      "             573             323  actual False\n",
      "              51             845   actual True\n"
     ]
    },
    {
     "name": "stderr",
     "output_type": "stream",
     "text": [
      "<ipython-input-1-8f90cbef799c>:16: DeprecationWarning: string or file could not be read to its end due to unmatched data; this will raise a ValueError in the future.\n",
      "  vec = np.fromstring(str_word_vec, dtype=float, sep=' ')\n"
     ]
    },
    {
     "name": "stdout",
     "output_type": "stream",
     "text": [
      "roc auc:  0.8709794317741031\n",
      "error:  0.12883435582822086\n",
      "f1:  0.8782929399367755\n",
      "precision : 0.8347521281922884\n",
      "recall : 0.9266259032795998\n",
      "***********************\n",
      " predicted False  predicted True              \n",
      "            1457             330  actual False\n",
      "             132            1667   actual True\n",
      "##################################################\n",
      "roc auc:  0.7922726211565663\n",
      "error:  0.20837988826815643\n",
      "f1:  0.8176039119804401\n",
      "precision : 0.7244367417677643\n",
      "recall : 0.9382716049382716\n",
      "***********************\n",
      " predicted False  predicted True              \n",
      "             581             318  actual False\n",
      "              55             836   actual True\n"
     ]
    },
    {
     "name": "stderr",
     "output_type": "stream",
     "text": [
      "<ipython-input-1-8f90cbef799c>:16: DeprecationWarning: string or file could not be read to its end due to unmatched data; this will raise a ValueError in the future.\n",
      "  vec = np.fromstring(str_word_vec, dtype=float, sep=' ')\n"
     ]
    },
    {
     "name": "stdout",
     "output_type": "stream",
     "text": [
      "roc auc:  0.8665194522978474\n",
      "error:  0.13329615170105968\n",
      "f1:  0.8740115972588297\n",
      "precision : 0.831077694235589\n",
      "recall : 0.9216231239577543\n",
      "***********************\n",
      " predicted False  predicted True              \n",
      "            1450             337  actual False\n",
      "             141            1658   actual True\n",
      "##################################################\n",
      "roc auc:  0.7970639043640904\n",
      "error:  0.20705092333519864\n",
      "f1:  0.8153692614770458\n",
      "precision : 0.7191901408450704\n",
      "recall : 0.9412442396313364\n",
      "***********************\n",
      " predicted False  predicted True              \n",
      "             600             319  actual False\n",
      "              51             817   actual True\n"
     ]
    },
    {
     "name": "stderr",
     "output_type": "stream",
     "text": [
      "<ipython-input-1-8f90cbef799c>:16: DeprecationWarning: string or file could not be read to its end due to unmatched data; this will raise a ValueError in the future.\n",
      "  vec = np.fromstring(str_word_vec, dtype=float, sep=' ')\n"
     ]
    },
    {
     "name": "stdout",
     "output_type": "stream",
     "text": [
      "roc auc:  0.8620370764955847\n",
      "error:  0.1377579475738985\n",
      "f1:  0.8705450733752621\n",
      "precision : 0.8235002478929102\n",
      "recall : 0.9232907170650362\n",
      "***********************\n",
      " predicted False  predicted True              \n",
      "            1431             356  actual False\n",
      "             138            1661   actual True\n",
      "##################################################\n",
      "roc auc:  0.784940074002574\n",
      "error:  0.2158071748878924\n",
      "f1:  0.8144578313253011\n",
      "precision : 0.7118786857624263\n",
      "recall : 0.9515765765765766\n",
      "***********************\n",
      " predicted False  predicted True              \n",
      "             554             342  actual False\n",
      "              43             845   actual True\n"
     ]
    },
    {
     "name": "stderr",
     "output_type": "stream",
     "text": [
      "<ipython-input-1-8f90cbef799c>:16: DeprecationWarning: string or file could not be read to its end due to unmatched data; this will raise a ValueError in the future.\n",
      "  vec = np.fromstring(str_word_vec, dtype=float, sep=' ')\n"
     ]
    },
    {
     "name": "stdout",
     "output_type": "stream",
     "text": [
      "roc auc:  0.8684929729971852\n",
      "error:  0.13134411600669268\n",
      "f1:  0.8750994431185362\n",
      "precision : 0.8367139959432048\n",
      "recall : 0.9171762090050027\n",
      "***********************\n",
      " predicted False  predicted True              \n",
      "            1465             322  actual False\n",
      "             149            1650   actual True\n",
      "##################################################\n",
      "roc auc:  0.8082624365957093\n",
      "error:  0.19487179487179487\n",
      "f1:  0.8277945619335347\n",
      "precision : 0.7293700088731144\n",
      "recall : 0.9569266589057043\n",
      "***********************\n",
      " predicted False  predicted True              \n",
      "             591             305  actual False\n",
      "              37             822   actual True\n"
     ]
    },
    {
     "name": "stderr",
     "output_type": "stream",
     "text": [
      "<ipython-input-1-8f90cbef799c>:16: DeprecationWarning: string or file could not be read to its end due to unmatched data; this will raise a ValueError in the future.\n",
      "  vec = np.fromstring(str_word_vec, dtype=float, sep=' ')\n"
     ]
    },
    {
     "name": "stdout",
     "output_type": "stream",
     "text": [
      "roc auc:  0.8608936196288867\n",
      "error:  0.1388733965421082\n",
      "f1:  0.8705148205928238\n",
      "precision : 0.8177821201758672\n",
      "recall : 0.9305169538632574\n",
      "***********************\n",
      " predicted False  predicted True              \n",
      "            1414             373  actual False\n",
      "             125            1674   actual True\n",
      "##################################################\n",
      "roc auc:  0.7795668672178218\n",
      "error:  0.21929824561403508\n",
      "f1:  0.8137802607076351\n",
      "precision : 0.7105691056910569\n",
      "recall : 0.9520697167755992\n",
      "***********************\n",
      " predicted False  predicted True              \n",
      "             550             356  actual False\n",
      "              44             874   actual True\n"
     ]
    },
    {
     "name": "stderr",
     "output_type": "stream",
     "text": [
      "<ipython-input-1-8f90cbef799c>:16: DeprecationWarning: string or file could not be read to its end due to unmatched data; this will raise a ValueError in the future.\n",
      "  vec = np.fromstring(str_word_vec, dtype=float, sep=' ')\n"
     ]
    },
    {
     "name": "stdout",
     "output_type": "stream",
     "text": [
      "roc auc:  0.8639788690664123\n",
      "error:  0.1358059118795315\n",
      "f1:  0.8727462764567546\n",
      "precision : 0.8234714003944773\n",
      "recall : 0.9282934963868816\n",
      "***********************\n",
      " predicted False  predicted True              \n",
      "            1429             358  actual False\n",
      "             129            1670   actual True\n",
      "##################################################\n",
      "roc auc:  0.7839873571602238\n",
      "error:  0.21719955898566704\n",
      "f1:  0.8107588856868396\n",
      "precision : 0.7140439932318104\n",
      "recall : 0.9377777777777778\n",
      "***********************\n",
      " predicted False  predicted True              \n",
      "             576             338  actual False\n",
      "              56             844   actual True\n"
     ]
    },
    {
     "name": "stderr",
     "output_type": "stream",
     "text": [
      "<ipython-input-1-8f90cbef799c>:16: DeprecationWarning: string or file could not be read to its end due to unmatched data; this will raise a ValueError in the future.\n",
      "  vec = np.fromstring(str_word_vec, dtype=float, sep=' ')\n"
     ]
    },
    {
     "name": "stdout",
     "output_type": "stream",
     "text": [
      "roc auc:  0.8647865365730448\n",
      "error:  0.13496932515337423\n",
      "f1:  0.8745463970969413\n",
      "precision : 0.8193297717338514\n",
      "recall : 0.9377431906614786\n",
      "***********************\n",
      " predicted False  predicted True              \n",
      "            1415             372  actual False\n",
      "             112            1687   actual True\n",
      "##################################################\n",
      "roc auc:  0.7798619767123705\n",
      "error:  0.22003376477208778\n",
      "f1:  0.8144280968201234\n",
      "precision : 0.7044334975369458\n",
      "recall : 0.9651293588301463\n",
      "***********************\n",
      " predicted False  predicted True              \n",
      "             528             360  actual False\n",
      "              31             858   actual True\n"
     ]
    },
    {
     "name": "stderr",
     "output_type": "stream",
     "text": [
      "<ipython-input-1-8f90cbef799c>:16: DeprecationWarning: string or file could not be read to its end due to unmatched data; this will raise a ValueError in the future.\n",
      "  vec = np.fromstring(str_word_vec, dtype=float, sep=' ')\n"
     ]
    },
    {
     "name": "stdout",
     "output_type": "stream",
     "text": [
      "roc auc:  0.86563339765019\n",
      "error:  0.13413273842721696\n",
      "f1:  0.8749675071484273\n",
      "precision : 0.82177734375\n",
      "recall : 0.9355197331851028\n",
      "***********************\n",
      " predicted False  predicted True              \n",
      "            1422             365  actual False\n",
      "             116            1683   actual True\n",
      "##################################################\n",
      "roc auc:  0.7825295625131976\n",
      "error:  0.21905805038335158\n",
      "f1:  0.8100664767331434\n",
      "precision : 0.7096505823627288\n",
      "recall : 0.9435840707964602\n",
      "***********************\n",
      " predicted False  predicted True              \n",
      "             573             349  actual False\n",
      "              51             853   actual True\n",
      "# New Domain Positive Pairs Percentage - test: 0.4\n",
      "defaultdict(<class 'list'>, {'auc': [0.5723006097198347, 0.6048318807823172, 0.7643996474263228, 0.8193840398298143, 0.8373917033632148, 0.8543426031443966, 0.8588988689553176, 0.8660029370293078], 'error': [0.42639044002680365, 0.39414018480955604, 0.23511838353787035, 0.1802928870292887, 0.16232669322709165, 0.14542580885087392, 0.14088373130997545, 0.13379810373675405], 'precision': [0.5424135151873626, 0.5671537728779353, 0.7069576753786261, 0.769000828790835, 0.7900652717007541, 0.8124121247437754, 0.8188042986089494, 0.8281848364782886], 'recall': [0.9629786286731968, 0.9088948787061994, 0.9084012849023968, 0.9159021406727829, 0.9215374841168996, 0.92353595255745, 0.9238434163701068, 0.9254585881045025], 'f1': [0.6938666683925655, 0.6981589722357996, 0.7949545903569074, 0.8359841648570258, 0.8506754169102053, 0.8643451736851341, 0.868093719113052, 0.8740635740803928]})\n",
      "defaultdict(<class 'list'>, {'auc': [0.5203552145081846, 0.5778631663458077, 0.690055278257112, 0.7431237232534685, 0.7529716782518966, 0.7763239100715916, 0.7783580172700155, 0.7898013299965665], 'error': [0.47790006368848786, 0.4206730518296023, 0.3088061397025172, 0.25603669246292665, 0.24612341632278445, 0.22301916247061931, 0.22015006431108955, 0.2111863793053409], 'precision': [0.512467781960071, 0.5461610197967216, 0.626695068655683, 0.6737802197479688, 0.6843599026076517, 0.7069181487105984, 0.7130367526065875, 0.7182066871448112], 'recall': [0.9852481616968957, 0.9704550090788828, 0.9553097275501917, 0.9507836331637364, 0.9478727020698281, 0.9495544314411488, 0.9440630907418754, 0.9464710753312019], 'f1': [0.6742185174218922, 0.6987119580655317, 0.7567121718380784, 0.7885993273201006, 0.7947414432110402, 0.8104034303783032, 0.8123736110055577, 0.8166123285808256]})\n"
     ]
    },
    {
     "name": "stderr",
     "output_type": "stream",
     "text": [
      "<ipython-input-1-8f90cbef799c>:16: DeprecationWarning: string or file could not be read to its end due to unmatched data; this will raise a ValueError in the future.\n",
      "  vec = np.fromstring(str_word_vec, dtype=float, sep=' ')\n"
     ]
    },
    {
     "name": "stdout",
     "output_type": "stream",
     "text": [
      "roc auc:  0.880418054280119\n",
      "error:  0.11937523242841205\n",
      "f1:  0.8878798463150541\n",
      "precision : 0.8394980184940555\n",
      "recall : 0.9421793921423276\n",
      "***********************\n",
      " predicted False  predicted True              \n",
      "            1097             243  actual False\n",
      "              78            1271   actual True\n",
      "##################################################\n",
      "roc auc:  0.8059607995676057\n",
      "error:  0.19548872180451127\n",
      "f1:  0.8305084745762712\n",
      "precision : 0.728\n",
      "recall : 0.9666160849772383\n",
      "***********************\n",
      " predicted False  predicted True              \n",
      "             433             238  actual False\n",
      "              22             637   actual True\n"
     ]
    },
    {
     "name": "stderr",
     "output_type": "stream",
     "text": [
      "<ipython-input-1-8f90cbef799c>:16: DeprecationWarning: string or file could not be read to its end due to unmatched data; this will raise a ValueError in the future.\n",
      "  vec = np.fromstring(str_word_vec, dtype=float, sep=' ')\n"
     ]
    },
    {
     "name": "stdout",
     "output_type": "stream",
     "text": [
      "roc auc:  0.8785897237312327\n",
      "error:  0.12123465972480477\n",
      "f1:  0.8851303735024666\n",
      "precision : 0.8435191403626595\n",
      "recall : 0.9310600444773907\n",
      "***********************\n",
      " predicted False  predicted True              \n",
      "            1107             233  actual False\n",
      "              93            1256   actual True\n",
      "##################################################\n",
      "roc auc:  0.8050206499565664\n",
      "error:  0.19100294985250738\n",
      "f1:  0.8359721342621913\n",
      "precision : 0.7482993197278912\n",
      "recall : 0.9469153515064562\n",
      "***********************\n",
      " predicted False  predicted True              \n",
      "             437             222  actual False\n",
      "              37             660   actual True\n"
     ]
    },
    {
     "name": "stderr",
     "output_type": "stream",
     "text": [
      "<ipython-input-1-8f90cbef799c>:16: DeprecationWarning: string or file could not be read to its end due to unmatched data; this will raise a ValueError in the future.\n",
      "  vec = np.fromstring(str_word_vec, dtype=float, sep=' ')\n"
     ]
    },
    {
     "name": "stdout",
     "output_type": "stream",
     "text": [
      "roc auc:  0.8707638604604848\n",
      "error:  0.12904425436965414\n",
      "f1:  0.8782883198877586\n",
      "precision : 0.833555259653795\n",
      "recall : 0.9280948851000741\n",
      "***********************\n",
      " predicted False  predicted True              \n",
      "            1090             250  actual False\n",
      "              97            1252   actual True\n",
      "##################################################\n",
      "roc auc:  0.7981884057971014\n",
      "error:  0.20072992700729927\n",
      "f1:  0.8260594560404807\n",
      "precision : 0.7328843995510662\n",
      "recall : 0.946376811594203\n",
      "***********************\n",
      " predicted False  predicted True              \n",
      "             442             238  actual False\n",
      "              37             653   actual True\n"
     ]
    },
    {
     "name": "stderr",
     "output_type": "stream",
     "text": [
      "<ipython-input-1-8f90cbef799c>:16: DeprecationWarning: string or file could not be read to its end due to unmatched data; this will raise a ValueError in the future.\n",
      "  vec = np.fromstring(str_word_vec, dtype=float, sep=' ')\n"
     ]
    },
    {
     "name": "stdout",
     "output_type": "stream",
     "text": [
      "roc auc:  0.8636718188154853\n",
      "error:  0.13611007809594644\n",
      "f1:  0.8725626740947076\n",
      "precision : 0.8227183191070256\n",
      "recall : 0.9288361749444033\n",
      "***********************\n",
      " predicted False  predicted True              \n",
      "            1070             270  actual False\n",
      "              96            1253   actual True\n",
      "##################################################\n",
      "roc auc:  0.7773411727549814\n",
      "error:  0.21985294117647058\n",
      "f1:  0.8146311221326721\n",
      "precision : 0.7125813449023861\n",
      "recall : 0.9507959479015919\n",
      "***********************\n",
      " predicted False  predicted True              \n",
      "             404             265  actual False\n",
      "              34             657   actual True\n"
     ]
    },
    {
     "name": "stderr",
     "output_type": "stream",
     "text": [
      "<ipython-input-1-8f90cbef799c>:16: DeprecationWarning: string or file could not be read to its end due to unmatched data; this will raise a ValueError in the future.\n",
      "  vec = np.fromstring(str_word_vec, dtype=float, sep=' ')\n"
     ]
    },
    {
     "name": "stdout",
     "output_type": "stream",
     "text": [
      "roc auc:  0.8670300277707091\n",
      "error:  0.13276310896243956\n",
      "f1:  0.8753056234718827\n",
      "precision : 0.8276089828269485\n",
      "recall : 0.9288361749444033\n",
      "***********************\n",
      " predicted False  predicted True              \n",
      "            1079             261  actual False\n",
      "              96            1253   actual True\n",
      "##################################################\n",
      "roc auc:  0.791932769387484\n",
      "error:  0.20758928571428573\n",
      "f1:  0.8214971209213052\n",
      "precision : 0.7221597300337458\n",
      "recall : 0.9525222551928784\n",
      "***********************\n",
      " predicted False  predicted True              \n",
      "             423             247  actual False\n",
      "              32             642   actual True\n"
     ]
    },
    {
     "name": "stderr",
     "output_type": "stream",
     "text": [
      "<ipython-input-1-8f90cbef799c>:16: DeprecationWarning: string or file could not be read to its end due to unmatched data; this will raise a ValueError in the future.\n",
      "  vec = np.fromstring(str_word_vec, dtype=float, sep=' ')\n"
     ]
    },
    {
     "name": "stdout",
     "output_type": "stream",
     "text": [
      "roc auc:  0.8711992299436842\n",
      "error:  0.12867236891037562\n",
      "f1:  0.8764285714285713\n",
      "precision : 0.8456237077877325\n",
      "recall : 0.9095626389918459\n",
      "***********************\n",
      " predicted False  predicted True              \n",
      "            1116             224  actual False\n",
      "             122            1227   actual True\n",
      "##################################################\n",
      "roc auc:  0.8143201674554058\n",
      "error:  0.1870286576168929\n",
      "f1:  0.8328840970350404\n",
      "precision : 0.7463768115942029\n",
      "recall : 0.9420731707317073\n",
      "***********************\n",
      " predicted False  predicted True              \n",
      "             460             210  actual False\n",
      "              38             618   actual True\n"
     ]
    },
    {
     "name": "stderr",
     "output_type": "stream",
     "text": [
      "<ipython-input-1-8f90cbef799c>:16: DeprecationWarning: string or file could not be read to its end due to unmatched data; this will raise a ValueError in the future.\n",
      "  vec = np.fromstring(str_word_vec, dtype=float, sep=' ')\n"
     ]
    },
    {
     "name": "stdout",
     "output_type": "stream",
     "text": [
      "roc auc:  0.8625673522675724\n",
      "error:  0.13722573447378208\n",
      "f1:  0.8711142158574922\n",
      "precision : 0.8236459709379128\n",
      "recall : 0.9243884358784284\n",
      "***********************\n",
      " predicted False  predicted True              \n",
      "            1073             267  actual False\n",
      "             102            1247   actual True\n",
      "##################################################\n",
      "roc auc:  0.778137304588515\n",
      "error:  0.2222222222222222\n",
      "f1:  0.8086185044359949\n",
      "precision : 0.7088888888888889\n",
      "recall : 0.9410029498525073\n",
      "***********************\n",
      " predicted False  predicted True              \n",
      "             419             262  actual False\n",
      "              40             638   actual True\n"
     ]
    },
    {
     "name": "stderr",
     "output_type": "stream",
     "text": [
      "<ipython-input-1-8f90cbef799c>:16: DeprecationWarning: string or file could not be read to its end due to unmatched data; this will raise a ValueError in the future.\n",
      "  vec = np.fromstring(str_word_vec, dtype=float, sep=' ')\n"
     ]
    },
    {
     "name": "stdout",
     "output_type": "stream",
     "text": [
      "roc auc:  0.8644803226270426\n",
      "error:  0.13536630717738937\n",
      "f1:  0.8709219858156029\n",
      "precision : 0.8348062542488104\n",
      "recall : 0.910303928836175\n",
      "***********************\n",
      " predicted False  predicted True              \n",
      "            1097             243  actual False\n",
      "             121            1228   actual True\n",
      "##################################################\n",
      "roc auc:  0.7904618473895583\n",
      "error:  0.206794682422452\n",
      "f1:  0.8214285714285714\n",
      "precision : 0.7334851936218679\n",
      "recall : 0.9333333333333333\n",
      "***********************\n",
      " predicted False  predicted True              \n",
      "             430             234  actual False\n",
      "              46             644   actual True\n"
     ]
    },
    {
     "name": "stderr",
     "output_type": "stream",
     "text": [
      "<ipython-input-1-8f90cbef799c>:16: DeprecationWarning: string or file could not be read to its end due to unmatched data; this will raise a ValueError in the future.\n",
      "  vec = np.fromstring(str_word_vec, dtype=float, sep=' ')\n"
     ]
    },
    {
     "name": "stdout",
     "output_type": "stream",
     "text": [
      "roc auc:  0.8722514189615304\n",
      "error:  0.12755671253253997\n",
      "f1:  0.8796913363732024\n",
      "precision : 0.8348868175765646\n",
      "recall : 0.9295774647887324\n",
      "***********************\n",
      " predicted False  predicted True              \n",
      "            1092             248  actual False\n",
      "              95            1254   actual True\n",
      "##################################################\n",
      "roc auc:  0.8036183479522608\n",
      "error:  0.19557195571955718\n",
      "f1:  0.831532104259377\n",
      "precision : 0.7331838565022422\n",
      "recall : 0.960352422907489\n",
      "***********************\n",
      " predicted False  predicted True              \n",
      "             436             238  actual False\n",
      "              27             654   actual True\n"
     ]
    },
    {
     "name": "stderr",
     "output_type": "stream",
     "text": [
      "<ipython-input-1-8f90cbef799c>:16: DeprecationWarning: string or file could not be read to its end due to unmatched data; this will raise a ValueError in the future.\n",
      "  vec = np.fromstring(str_word_vec, dtype=float, sep=' ')\n"
     ]
    },
    {
     "name": "stdout",
     "output_type": "stream",
     "text": [
      "roc auc:  0.8745176083998097\n",
      "error:  0.1253253997768687\n",
      "f1:  0.8806234502302515\n",
      "precision : 0.8432835820895522\n",
      "recall : 0.9214232765011119\n",
      "***********************\n",
      " predicted False  predicted True              \n",
      "            1109             231  actual False\n",
      "             106            1243   actual True\n",
      "##################################################\n",
      "roc auc:  0.7997385235953453\n",
      "error:  0.1947761194029851\n",
      "f1:  0.8338637810311903\n",
      "precision : 0.7485714285714286\n",
      "recall : 0.9410919540229885\n",
      "***********************\n",
      " predicted False  predicted True              \n",
      "             424             220  actual False\n",
      "              41             655   actual True\n",
      "# New Domain Positive Pairs Percentage - test: 0.3\n",
      "defaultdict(<class 'list'>, {'auc': [0.5723006097198347, 0.6048318807823172, 0.7643996474263228, 0.8193840398298143, 0.8373917033632148, 0.8543426031443966, 0.8588988689553176, 0.8660029370293078, 0.870548941725767], 'error': [0.42639044002680365, 0.39414018480955604, 0.23511838353787035, 0.1802928870292887, 0.16232669322709165, 0.14542580885087392, 0.14088373130997545, 0.13379810373675405, 0.12926738564522128], 'precision': [0.5424135151873626, 0.5671537728779353, 0.7069576753786261, 0.769000828790835, 0.7900652717007541, 0.8124121247437754, 0.8188042986089494, 0.8281848364782886, 0.8349146053085057], 'recall': [0.9629786286731968, 0.9088948787061994, 0.9084012849023968, 0.9159021406727829, 0.9215374841168996, 0.92353595255745, 0.9238434163701068, 0.9254585881045025, 0.9254262416604893], 'f1': [0.6938666683925655, 0.6981589722357996, 0.7949545903569074, 0.8359841648570258, 0.8506754169102053, 0.8643451736851341, 0.868093719113052, 0.8740635740803928, 0.877794639697699]})\n",
      "defaultdict(<class 'list'>, {'auc': [0.5203552145081846, 0.5778631663458077, 0.690055278257112, 0.7431237232534685, 0.7529716782518966, 0.7763239100715916, 0.7783580172700155, 0.7898013299965665, 0.7964719988444824], 'error': [0.47790006368848786, 0.4206730518296023, 0.3088061397025172, 0.25603669246292665, 0.24612341632278445, 0.22301916247061931, 0.22015006431108955, 0.2111863793053409, 0.20210574629391836], 'precision': [0.512467781960071, 0.5461610197967216, 0.626695068655683, 0.6737802197479688, 0.6843599026076517, 0.7069181487105984, 0.7130367526065875, 0.7182066871448112, 0.731443097339372], 'recall': [0.9852481616968957, 0.9704550090788828, 0.9553097275501917, 0.9507836331637364, 0.9478727020698281, 0.9495544314411488, 0.9440630907418754, 0.9464710753312019, 0.9481080282020393], 'f1': [0.6742185174218922, 0.6987119580655317, 0.7567121718380784, 0.7885993273201006, 0.7947414432110402, 0.8104034303783032, 0.8123736110055577, 0.8166123285808256, 0.8256995366123094]})\n"
     ]
    },
    {
     "name": "stderr",
     "output_type": "stream",
     "text": [
      "<ipython-input-1-8f90cbef799c>:16: DeprecationWarning: string or file could not be read to its end due to unmatched data; this will raise a ValueError in the future.\n",
      "  vec = np.fromstring(str_word_vec, dtype=float, sep=' ')\n"
     ]
    },
    {
     "name": "stdout",
     "output_type": "stream",
     "text": [
      "roc auc:  0.8827255779269203\n",
      "error:  0.11705685618729098\n",
      "f1:  0.8903966597077244\n",
      "precision : 0.8395669291338582\n",
      "recall : 0.9477777777777778\n",
      "***********************\n",
      " predicted False  predicted True              \n",
      "             731             163  actual False\n",
      "              47             853   actual True\n",
      "##################################################\n",
      "roc auc:  0.8028390359768209\n",
      "error:  0.19570135746606335\n",
      "f1:  0.8325266214908035\n",
      "precision : 0.7325383304940375\n",
      "recall : 0.9641255605381166\n",
      "***********************\n",
      " predicted False  predicted True              \n",
      "             281             157  actual False\n",
      "              16             430   actual True\n"
     ]
    },
    {
     "name": "stderr",
     "output_type": "stream",
     "text": [
      "<ipython-input-1-8f90cbef799c>:16: DeprecationWarning: string or file could not be read to its end due to unmatched data; this will raise a ValueError in the future.\n",
      "  vec = np.fromstring(str_word_vec, dtype=float, sep=' ')\n"
     ]
    },
    {
     "name": "stdout",
     "output_type": "stream",
     "text": [
      "roc auc:  0.879392244593587\n",
      "error:  0.12040133779264214\n",
      "f1:  0.8869109947643979\n",
      "precision : 0.8386138613861386\n",
      "recall : 0.9411111111111111\n",
      "***********************\n",
      " predicted False  predicted True              \n",
      "             731             163  actual False\n",
      "              53             847   actual True\n",
      "##################################################\n",
      "roc auc:  0.8010586338810962\n",
      "error:  0.19517543859649122\n",
      "f1:  0.8339552238805971\n",
      "precision : 0.7388429752066116\n",
      "recall : 0.9571734475374732\n",
      "***********************\n",
      " predicted False  predicted True              \n",
      "             287             158  actual False\n",
      "              20             447   actual True\n"
     ]
    },
    {
     "name": "stderr",
     "output_type": "stream",
     "text": [
      "<ipython-input-1-8f90cbef799c>:16: DeprecationWarning: string or file could not be read to its end due to unmatched data; this will raise a ValueError in the future.\n",
      "  vec = np.fromstring(str_word_vec, dtype=float, sep=' ')\n"
     ]
    },
    {
     "name": "stdout",
     "output_type": "stream",
     "text": [
      "roc auc:  0.8783109619686802\n",
      "error:  0.12151616499442586\n",
      "f1:  0.8847780126849895\n",
      "precision : 0.84375\n",
      "recall : 0.93\n",
      "***********************\n",
      " predicted False  predicted True              \n",
      "             739             155  actual False\n",
      "              63             837   actual True\n",
      "##################################################\n",
      "roc auc:  0.8100592165198907\n",
      "error:  0.19010123734533182\n",
      "f1:  0.8334975369458129\n",
      "precision : 0.7408056042031523\n",
      "recall : 0.9527027027027027\n",
      "***********************\n",
      " predicted False  predicted True              \n",
      "             297             148  actual False\n",
      "              21             423   actual True\n"
     ]
    },
    {
     "name": "stderr",
     "output_type": "stream",
     "text": [
      "<ipython-input-1-8f90cbef799c>:16: DeprecationWarning: string or file could not be read to its end due to unmatched data; this will raise a ValueError in the future.\n",
      "  vec = np.fromstring(str_word_vec, dtype=float, sep=' ')\n"
     ]
    },
    {
     "name": "stdout",
     "output_type": "stream",
     "text": [
      "roc auc:  0.8766293810589112\n",
      "error:  0.12318840579710146\n",
      "f1:  0.8835002635740643\n",
      "precision : 0.8405215646940822\n",
      "recall : 0.9311111111111111\n",
      "***********************\n",
      " predicted False  predicted True              \n",
      "             735             159  actual False\n",
      "              62             838   actual True\n",
      "##################################################\n",
      "roc auc:  0.8074540970128803\n",
      "error:  0.19883040935672514\n",
      "f1:  0.8225469728601252\n",
      "precision : 0.718978102189781\n",
      "recall : 0.9609756097560975\n",
      "***********************\n",
      " predicted False  predicted True              \n",
      "             291             154  actual False\n",
      "              16             394   actual True\n"
     ]
    },
    {
     "name": "stderr",
     "output_type": "stream",
     "text": [
      "<ipython-input-1-8f90cbef799c>:16: DeprecationWarning: string or file could not be read to its end due to unmatched data; this will raise a ValueError in the future.\n",
      "  vec = np.fromstring(str_word_vec, dtype=float, sep=' ')\n"
     ]
    },
    {
     "name": "stdout",
     "output_type": "stream",
     "text": [
      "roc auc:  0.8822296793437733\n",
      "error:  0.11761426978818283\n",
      "f1:  0.8879447689856611\n",
      "precision : 0.8504577822990844\n",
      "recall : 0.9288888888888889\n",
      "***********************\n",
      " predicted False  predicted True              \n",
      "             747             147  actual False\n",
      "              64             836   actual True\n",
      "##################################################\n",
      "roc auc:  0.8193668127499582\n",
      "error:  0.17833698030634573\n",
      "f1:  0.8443170964660935\n",
      "precision : 0.7594501718213058\n",
      "recall : 0.9505376344086022\n",
      "***********************\n",
      " predicted False  predicted True              \n",
      "             309             140  actual False\n",
      "              23             442   actual True\n"
     ]
    },
    {
     "name": "stderr",
     "output_type": "stream",
     "text": [
      "<ipython-input-1-8f90cbef799c>:16: DeprecationWarning: string or file could not be read to its end due to unmatched data; this will raise a ValueError in the future.\n",
      "  vec = np.fromstring(str_word_vec, dtype=float, sep=' ')\n"
     ]
    },
    {
     "name": "stdout",
     "output_type": "stream",
     "text": [
      "roc auc:  0.8827852348993289\n",
      "error:  0.11705685618729098\n",
      "f1:  0.8885350318471338\n",
      "precision : 0.850609756097561\n",
      "recall : 0.93\n",
      "***********************\n",
      " predicted False  predicted True              \n",
      "             747             147  actual False\n",
      "              63             837   actual True\n",
      "##################################################\n",
      "roc auc:  0.7984761231575227\n",
      "error:  0.19226393629124006\n",
      "f1:  0.8395061728395062\n",
      "precision : 0.7542662116040956\n",
      "recall : 0.9464668094218416\n",
      "***********************\n",
      " predicted False  predicted True              \n",
      "             268             144  actual False\n",
      "              25             442   actual True\n"
     ]
    },
    {
     "name": "stderr",
     "output_type": "stream",
     "text": [
      "<ipython-input-1-8f90cbef799c>:16: DeprecationWarning: string or file could not be read to its end due to unmatched data; this will raise a ValueError in the future.\n",
      "  vec = np.fromstring(str_word_vec, dtype=float, sep=' ')\n"
     ]
    },
    {
     "name": "stdout",
     "output_type": "stream",
     "text": [
      "roc auc:  0.8783296047725577\n",
      "error:  0.12151616499442586\n",
      "f1:  0.8841657810839533\n",
      "precision : 0.8472505091649695\n",
      "recall : 0.9244444444444444\n",
      "***********************\n",
      " predicted False  predicted True              \n",
      "             744             150  actual False\n",
      "              68             832   actual True\n",
      "##################################################\n",
      "roc auc:  0.8155599238282449\n",
      "error:  0.1832579185520362\n",
      "f1:  0.8389662027833003\n",
      "precision : 0.7535714285714286\n",
      "recall : 0.9461883408071748\n",
      "***********************\n",
      " predicted False  predicted True              \n",
      "             300             138  actual False\n",
      "              24             422   actual True\n"
     ]
    },
    {
     "name": "stderr",
     "output_type": "stream",
     "text": [
      "<ipython-input-1-8f90cbef799c>:16: DeprecationWarning: string or file could not be read to its end due to unmatched data; this will raise a ValueError in the future.\n",
      "  vec = np.fromstring(str_word_vec, dtype=float, sep=' ')\n"
     ]
    },
    {
     "name": "stdout",
     "output_type": "stream",
     "text": [
      "roc auc:  0.8677367636092468\n",
      "error:  0.13210702341137123\n",
      "f1:  0.8741370154009559\n",
      "precision : 0.8372329603255341\n",
      "recall : 0.9144444444444444\n",
      "***********************\n",
      " predicted False  predicted True              \n",
      "             734             160  actual False\n",
      "              77             823   actual True\n",
      "##################################################\n",
      "roc auc:  0.8058341777666818\n",
      "error:  0.19247787610619468\n",
      "f1:  0.8342857142857143\n",
      "precision : 0.7386172006745363\n",
      "recall : 0.9584245076586433\n",
      "***********************\n",
      " predicted False  predicted True              \n",
      "             292             155  actual False\n",
      "              19             438   actual True\n"
     ]
    },
    {
     "name": "stderr",
     "output_type": "stream",
     "text": [
      "<ipython-input-1-8f90cbef799c>:16: DeprecationWarning: string or file could not be read to its end due to unmatched data; this will raise a ValueError in the future.\n",
      "  vec = np.fromstring(str_word_vec, dtype=float, sep=' ')\n"
     ]
    },
    {
     "name": "stdout",
     "output_type": "stream",
     "text": [
      "roc auc:  0.8699254287844892\n",
      "error:  0.12987736900780378\n",
      "f1:  0.8776902887139107\n",
      "precision : 0.8318407960199005\n",
      "recall : 0.9288888888888889\n",
      "***********************\n",
      " predicted False  predicted True              \n",
      "             725             169  actual False\n",
      "              64             836   actual True\n",
      "##################################################\n",
      "roc auc:  0.7973285384022604\n",
      "error:  0.20283533260632497\n",
      "f1:  0.8235294117647058\n",
      "precision : 0.7281879194630873\n",
      "recall : 0.9475982532751092\n",
      "***********************\n",
      " predicted False  predicted True              \n",
      "             297             162  actual False\n",
      "              24             434   actual True\n"
     ]
    },
    {
     "name": "stderr",
     "output_type": "stream",
     "text": [
      "<ipython-input-1-8f90cbef799c>:16: DeprecationWarning: string or file could not be read to its end due to unmatched data; this will raise a ValueError in the future.\n",
      "  vec = np.fromstring(str_word_vec, dtype=float, sep=' ')\n"
     ]
    },
    {
     "name": "stdout",
     "output_type": "stream",
     "text": [
      "roc auc:  0.8682662192393736\n",
      "error:  0.13154960981047936\n",
      "f1:  0.8756585879873551\n",
      "precision : 0.8326653306613226\n",
      "recall : 0.9233333333333333\n",
      "***********************\n",
      " predicted False  predicted True              \n",
      "             727             167  actual False\n",
      "              69             831   actual True\n",
      "##################################################\n",
      "roc auc:  0.8091085366936719\n",
      "error:  0.19644839067702552\n",
      "f1:  0.8249258160237389\n",
      "precision : 0.7227036395147314\n",
      "recall : 0.9608294930875576\n",
      "***********************\n",
      " predicted False  predicted True              \n",
      "             307             160  actual False\n",
      "              17             417   actual True\n",
      "# New Domain Positive Pairs Percentage - test: 0.2\n",
      "defaultdict(<class 'list'>, {'auc': [0.5723006097198347, 0.6048318807823172, 0.7643996474263228, 0.8193840398298143, 0.8373917033632148, 0.8543426031443966, 0.8588988689553176, 0.8660029370293078, 0.870548941725767, 0.8766331096196869], 'error': [0.42639044002680365, 0.39414018480955604, 0.23511838353787035, 0.1802928870292887, 0.16232669322709165, 0.14542580885087392, 0.14088373130997545, 0.13379810373675405, 0.12926738564522128, 0.12318840579710144], 'precision': [0.5424135151873626, 0.5671537728779353, 0.7069576753786261, 0.769000828790835, 0.7900652717007541, 0.8124121247437754, 0.8188042986089494, 0.8281848364782886, 0.8349146053085057, 0.8412509489782451], 'recall': [0.9629786286731968, 0.9088948787061994, 0.9084012849023968, 0.9159021406727829, 0.9215374841168996, 0.92353595255745, 0.9238434163701068, 0.9254585881045025, 0.9254262416604893, 0.93], 'f1': [0.6938666683925655, 0.6981589722357996, 0.7949545903569074, 0.8359841648570258, 0.8506754169102053, 0.8643451736851341, 0.868093719113052, 0.8740635740803928, 0.877794639697699, 0.8833717404750145]})\n",
      "defaultdict(<class 'list'>, {'auc': [0.5203552145081846, 0.5778631663458077, 0.690055278257112, 0.7431237232534685, 0.7529716782518966, 0.7763239100715916, 0.7783580172700155, 0.7898013299965665, 0.7964719988444824, 0.8067085095989028], 'error': [0.47790006368848786, 0.4206730518296023, 0.3088061397025172, 0.25603669246292665, 0.24612341632278445, 0.22301916247061931, 0.22015006431108955, 0.2111863793053409, 0.20210574629391836, 0.19254288773037787], 'precision': [0.512467781960071, 0.5461610197967216, 0.626695068655683, 0.6737802197479688, 0.6843599026076517, 0.7069181487105984, 0.7130367526065875, 0.7182066871448112, 0.731443097339372, 0.7387961583742767], 'recall': [0.9852481616968957, 0.9704550090788828, 0.9553097275501917, 0.9507836331637364, 0.9478727020698281, 0.9495544314411488, 0.9440630907418754, 0.9464710753312019, 0.9481080282020393, 0.9545022359193319], 'f1': [0.6742185174218922, 0.6987119580655317, 0.7567121718380784, 0.7885993273201006, 0.7947414432110402, 0.8104034303783032, 0.8123736110055577, 0.8166123285808256, 0.8256995366123094, 0.8328056769340397]})\n"
     ]
    },
    {
     "name": "stderr",
     "output_type": "stream",
     "text": [
      "<ipython-input-1-8f90cbef799c>:16: DeprecationWarning: string or file could not be read to its end due to unmatched data; this will raise a ValueError in the future.\n",
      "  vec = np.fromstring(str_word_vec, dtype=float, sep=' ')\n"
     ]
    },
    {
     "name": "stdout",
     "output_type": "stream",
     "text": [
      "roc auc:  0.8783221476510068\n",
      "error:  0.12151616499442586\n",
      "f1:  0.8844114528101802\n",
      "precision : 0.845841784989858\n",
      "recall : 0.9266666666666666\n",
      "***********************\n",
      " predicted False  predicted True              \n",
      "             371              76  actual False\n",
      "              33             417   actual True\n",
      "##################################################\n",
      "roc auc:  0.8119707118862269\n",
      "error:  0.1905829596412556\n",
      "f1:  0.831013916500994\n",
      "precision : 0.7359154929577465\n",
      "recall : 0.954337899543379\n",
      "***********************\n",
      " predicted False  predicted True              \n",
      "             152              75  actual False\n",
      "              10             209   actual True\n"
     ]
    },
    {
     "name": "stderr",
     "output_type": "stream",
     "text": [
      "<ipython-input-1-8f90cbef799c>:16: DeprecationWarning: string or file could not be read to its end due to unmatched data; this will raise a ValueError in the future.\n",
      "  vec = np.fromstring(str_word_vec, dtype=float, sep=' ')\n"
     ]
    },
    {
     "name": "stdout",
     "output_type": "stream",
     "text": [
      "roc auc:  0.8716480238627891\n",
      "error:  0.1282051282051282\n",
      "f1:  0.8775292864749734\n",
      "precision : 0.8425357873210634\n",
      "recall : 0.9155555555555556\n",
      "***********************\n",
      " predicted False  predicted True              \n",
      "             370              77  actual False\n",
      "              38             412   actual True\n",
      "##################################################\n",
      "roc auc:  0.8018518518518518\n",
      "error:  0.19501133786848074\n",
      "f1:  0.8333333333333334\n",
      "precision : 0.738831615120275\n",
      "recall : 0.9555555555555556\n",
      "***********************\n",
      " predicted False  predicted True              \n",
      "             140              76  actual False\n",
      "              10             215   actual True\n"
     ]
    },
    {
     "name": "stderr",
     "output_type": "stream",
     "text": [
      "<ipython-input-1-8f90cbef799c>:16: DeprecationWarning: string or file could not be read to its end due to unmatched data; this will raise a ValueError in the future.\n",
      "  vec = np.fromstring(str_word_vec, dtype=float, sep=' ')\n"
     ]
    },
    {
     "name": "stdout",
     "output_type": "stream",
     "text": [
      "roc auc:  0.8493139448173006\n",
      "error:  0.1505016722408027\n",
      "f1:  0.8577449947312962\n",
      "precision : 0.8156312625250501\n",
      "recall : 0.9044444444444445\n",
      "***********************\n",
      " predicted False  predicted True              \n",
      "             355              92  actual False\n",
      "              43             407   actual True\n",
      "##################################################\n",
      "roc auc:  0.7968215063803299\n",
      "error:  0.21145374449339208\n",
      "f1:  0.8132295719844358\n",
      "precision : 0.7013422818791947\n",
      "recall : 0.9675925925925926\n",
      "***********************\n",
      " predicted False  predicted True              \n",
      "             149              89  actual False\n",
      "               7             209   actual True\n"
     ]
    },
    {
     "name": "stderr",
     "output_type": "stream",
     "text": [
      "<ipython-input-1-8f90cbef799c>:16: DeprecationWarning: string or file could not be read to its end due to unmatched data; this will raise a ValueError in the future.\n",
      "  vec = np.fromstring(str_word_vec, dtype=float, sep=' ')\n"
     ]
    },
    {
     "name": "stdout",
     "output_type": "stream",
     "text": [
      "roc auc:  0.8648993288590605\n",
      "error:  0.13489409141583056\n",
      "f1:  0.8732984293193716\n",
      "precision : 0.8257425742574257\n",
      "recall : 0.9266666666666666\n",
      "***********************\n",
      " predicted False  predicted True              \n",
      "             359              88  actual False\n",
      "              33             417   actual True\n",
      "##################################################\n",
      "roc auc:  0.7950528755613502\n",
      "error:  0.20425531914893616\n",
      "f1:  0.8248175182481752\n",
      "precision : 0.7243589743589743\n",
      "recall : 0.9576271186440678\n",
      "***********************\n",
      " predicted False  predicted True              \n",
      "             148              86  actual False\n",
      "              10             226   actual True\n"
     ]
    },
    {
     "name": "stderr",
     "output_type": "stream",
     "text": [
      "<ipython-input-1-8f90cbef799c>:16: DeprecationWarning: string or file could not be read to its end due to unmatched data; this will raise a ValueError in the future.\n",
      "  vec = np.fromstring(str_word_vec, dtype=float, sep=' ')\n"
     ]
    },
    {
     "name": "stdout",
     "output_type": "stream",
     "text": [
      "roc auc:  0.882751677852349\n",
      "error:  0.11705685618729098\n",
      "f1:  0.889589905362776\n",
      "precision : 0.844311377245509\n",
      "recall : 0.94\n",
      "***********************\n",
      " predicted False  predicted True              \n",
      "             369              78  actual False\n",
      "              27             423   actual True\n",
      "##################################################\n",
      "roc auc:  0.8154426694249701\n",
      "error:  0.18599562363238512\n",
      "f1:  0.8343079922027291\n",
      "precision : 0.7456445993031359\n",
      "recall : 0.9469026548672567\n",
      "***********************\n",
      " predicted False  predicted True              \n",
      "             158              73  actual False\n",
      "              12             214   actual True\n"
     ]
    },
    {
     "name": "stderr",
     "output_type": "stream",
     "text": [
      "<ipython-input-1-8f90cbef799c>:16: DeprecationWarning: string or file could not be read to its end due to unmatched data; this will raise a ValueError in the future.\n",
      "  vec = np.fromstring(str_word_vec, dtype=float, sep=' ')\n"
     ]
    },
    {
     "name": "stdout",
     "output_type": "stream",
     "text": [
      "roc auc:  0.8749739000745713\n",
      "error:  0.12486064659977704\n",
      "f1:  0.8813559322033898\n",
      "precision : 0.8421052631578947\n",
      "recall : 0.9244444444444444\n",
      "***********************\n",
      " predicted False  predicted True              \n",
      "             369              78  actual False\n",
      "              34             416   actual True\n",
      "##################################################\n",
      "roc auc:  0.7980284989264103\n",
      "error:  0.19646799116997793\n",
      "f1:  0.8330206378986867\n",
      "precision : 0.7449664429530202\n",
      "recall : 0.9446808510638298\n",
      "***********************\n",
      " predicted False  predicted True              \n",
      "             142              76  actual False\n",
      "              13             222   actual True\n"
     ]
    },
    {
     "name": "stderr",
     "output_type": "stream",
     "text": [
      "<ipython-input-1-8f90cbef799c>:16: DeprecationWarning: string or file could not be read to its end due to unmatched data; this will raise a ValueError in the future.\n",
      "  vec = np.fromstring(str_word_vec, dtype=float, sep=' ')\n"
     ]
    },
    {
     "name": "stdout",
     "output_type": "stream",
     "text": [
      "roc auc:  0.8783370618941089\n",
      "error:  0.12151616499442586\n",
      "f1:  0.8839190628328009\n",
      "precision : 0.8486707566462167\n",
      "recall : 0.9222222222222223\n",
      "***********************\n",
      " predicted False  predicted True              \n",
      "             373              74  actual False\n",
      "              35             415   actual True\n",
      "##################################################\n",
      "roc auc:  0.8141177916120577\n",
      "error:  0.18778280542986425\n",
      "f1:  0.8336673346693386\n",
      "precision : 0.7402135231316725\n",
      "recall : 0.9541284403669725\n",
      "***********************\n",
      " predicted False  predicted True              \n",
      "             151              73  actual False\n",
      "              10             208   actual True\n"
     ]
    },
    {
     "name": "stderr",
     "output_type": "stream",
     "text": [
      "<ipython-input-1-8f90cbef799c>:16: DeprecationWarning: string or file could not be read to its end due to unmatched data; this will raise a ValueError in the future.\n",
      "  vec = np.fromstring(str_word_vec, dtype=float, sep=' ')\n"
     ]
    },
    {
     "name": "stdout",
     "output_type": "stream",
     "text": [
      "roc auc:  0.8738404175988068\n",
      "error:  0.12597547380156077\n",
      "f1:  0.8809272918861959\n",
      "precision : 0.8376753507014028\n",
      "recall : 0.9288888888888889\n",
      "***********************\n",
      " predicted False  predicted True              \n",
      "             366              81  actual False\n",
      "              32             418   actual True\n",
      "##################################################\n",
      "roc auc:  0.8005472350230416\n",
      "error:  0.2018140589569161\n",
      "f1:  0.8223552894211578\n",
      "precision : 0.7253521126760564\n",
      "recall : 0.9493087557603687\n",
      "***********************\n",
      " predicted False  predicted True              \n",
      "             146              78  actual False\n",
      "              11             206   actual True\n"
     ]
    },
    {
     "name": "stderr",
     "output_type": "stream",
     "text": [
      "<ipython-input-1-8f90cbef799c>:16: DeprecationWarning: string or file could not be read to its end due to unmatched data; this will raise a ValueError in the future.\n",
      "  vec = np.fromstring(str_word_vec, dtype=float, sep=' ')\n"
     ]
    },
    {
     "name": "stdout",
     "output_type": "stream",
     "text": [
      "roc auc:  0.8727293064876958\n",
      "error:  0.12709030100334448\n",
      "f1:  0.879746835443038\n",
      "precision : 0.8373493975903614\n",
      "recall : 0.9266666666666666\n",
      "***********************\n",
      " predicted False  predicted True              \n",
      "             366              81  actual False\n",
      "              33             417   actual True\n",
      "##################################################\n",
      "roc auc:  0.8016195856873823\n",
      "error:  0.2017353579175705\n",
      "f1:  0.8201160541586073\n",
      "precision : 0.726027397260274\n",
      "recall : 0.9422222222222222\n",
      "***********************\n",
      " predicted False  predicted True              \n",
      "             156              80  actual False\n",
      "              13             212   actual True\n"
     ]
    },
    {
     "name": "stderr",
     "output_type": "stream",
     "text": [
      "<ipython-input-1-8f90cbef799c>:16: DeprecationWarning: string or file could not be read to its end due to unmatched data; this will raise a ValueError in the future.\n",
      "  vec = np.fromstring(str_word_vec, dtype=float, sep=' ')\n"
     ]
    },
    {
     "name": "stdout",
     "output_type": "stream",
     "text": [
      "roc auc:  0.8827964205816554\n",
      "error:  0.11705685618729098\n",
      "f1:  0.888178913738019\n",
      "precision : 0.852760736196319\n",
      "recall : 0.9266666666666666\n",
      "***********************\n",
      " predicted False  predicted True              \n",
      "             375              72  actual False\n",
      "              33             417   actual True\n",
      "##################################################\n",
      "roc auc:  0.8096969696969696\n",
      "error:  0.18859649122807018\n",
      "f1:  0.8346153846153845\n",
      "precision : 0.7508650519031141\n",
      "recall : 0.9393939393939394\n",
      "***********************\n",
      " predicted False  predicted True              \n",
      "             153              72  actual False\n",
      "              14             217   actual True\n",
      "# New Domain Positive Pairs Percentage - test: 0.1\n",
      "defaultdict(<class 'list'>, {'auc': [0.5723006097198347, 0.6048318807823172, 0.7643996474263228, 0.8193840398298143, 0.8373917033632148, 0.8543426031443966, 0.8588988689553176, 0.8660029370293078, 0.870548941725767, 0.8766331096196869, 0.8729612229679344], 'error': [0.42639044002680365, 0.39414018480955604, 0.23511838353787035, 0.1802928870292887, 0.16232669322709165, 0.14542580885087392, 0.14088373130997545, 0.13379810373675405, 0.12926738564522128, 0.12318840579710144, 0.12686733556298774], 'precision': [0.5424135151873626, 0.5671537728779353, 0.7069576753786261, 0.769000828790835, 0.7900652717007541, 0.8124121247437754, 0.8188042986089494, 0.8281848364782886, 0.8349146053085057, 0.8412509489782451, 0.8392624290631101], 'recall': [0.9629786286731968, 0.9088948787061994, 0.9084012849023968, 0.9159021406727829, 0.9215374841168996, 0.92353595255745, 0.9238434163701068, 0.9254585881045025, 0.9254262416604893, 0.93, 0.9242222222222222], 'f1': [0.6938666683925655, 0.6981589722357996, 0.7949545903569074, 0.8359841648570258, 0.8506754169102053, 0.8643451736851341, 0.868093719113052, 0.8740635740803928, 0.877794639697699, 0.8833717404750145, 0.8796702104802041]})\n",
      "defaultdict(<class 'list'>, {'auc': [0.5203552145081846, 0.5778631663458077, 0.690055278257112, 0.7431237232534685, 0.7529716782518966, 0.7763239100715916, 0.7783580172700155, 0.7898013299965665, 0.7964719988444824, 0.8067085095989028, 0.8045149696050591], 'error': [0.47790006368848786, 0.4206730518296023, 0.3088061397025172, 0.25603669246292665, 0.24612341632278445, 0.22301916247061931, 0.22015006431108955, 0.2111863793053409, 0.20210574629391836, 0.19254288773037787, 0.19636956894868487], 'precision': [0.512467781960071, 0.5461610197967216, 0.626695068655683, 0.6737802197479688, 0.6843599026076517, 0.7069181487105984, 0.7130367526065875, 0.7182066871448112, 0.731443097339372, 0.7387961583742767, 0.7333517491543463], 'recall': [0.9852481616968957, 0.9704550090788828, 0.9553097275501917, 0.9507836331637364, 0.9478727020698281, 0.9495544314411488, 0.9440630907418754, 0.9464710753312019, 0.9481080282020393, 0.9545022359193319, 0.9511750030010184], 'f1': [0.6742185174218922, 0.6987119580655317, 0.7567121718380784, 0.7885993273201006, 0.7947414432110402, 0.8104034303783032, 0.8123736110055577, 0.8166123285808256, 0.8256995366123094, 0.8328056769340397, 0.8280477033032843]})\n"
     ]
    }
   ],
   "source": [
    "## LOAD DATA ###########################################################\n",
    "import pandas as pd\n",
    "import numpy as np\n",
    "import re\n",
    "\n",
    "# pos = pd.read_csv('pos_yago_7.csv')\n",
    "# neg = pd.read_csv('neg_yago_7.csv')\n",
    "\n",
    "# pos = pd.read_csv('pos_7.csv')\n",
    "# neg = pd.read_csv('neg_7.csv')\n",
    "\n",
    "# pos_unseen = pd.read_csv('zero_shot_pov_pairs.csv')\n",
    "# neg_unseen = pd.read_csv('zero_shot_neg_pairs.csv')\n",
    "\n",
    "# pos_train = pd.read_csv('zero_shot_pos_pairs_train.csv')\n",
    "# neg_train = pd.read_csv('zero_shot_neg_pairs_train.csv')\n",
    "\n",
    "# pos_yago = pd.read_csv('pos_yago_7.csv')\n",
    "# neg_yago = pd.read_csv('neg_yago_7.csv')\n",
    "\n",
    "# ###############################################\n",
    "# pos_tac = pd.read_csv('pos_yago_7.csv')\n",
    "# neg_tac = pd.read_csv('neg_yago_7.csv')\n",
    "\n",
    "# pos_train_yago = pd.read_csv(\"tac_pos_train.csv\")\n",
    "# pos_test_yago = pd.read_csv(\"tac_pos_test.csv\")\n",
    "\n",
    "# neg_train_yago = pd.read_csv(\"tac_neg_train.csv\")\n",
    "# neg_test_yago = pd.read_csv(\"tac_neg_test.csv\")\n",
    "\n",
    "# pos_train_tac = pos_tac\n",
    "# neg_train_tac = neg_tac\n",
    "# ###############################################\n",
    "\n",
    "# pos_tac = pd.read_csv('pos_yago_7.csv')\n",
    "# neg_tac = pd.read_csv('neg_yago_7.csv')\n",
    "\n",
    "# pos_train_yago = pd.read_csv(\"tac_pos_train.csv\")\n",
    "# pos_test_yago = pd.read_csv(\"tac_pos_test.csv\")\n",
    "\n",
    "# neg_train_yago = pd.read_csv(\"tac_neg_train.csv\")\n",
    "# neg_test_yago = pd.read_csv(\"tac_neg_test.csv\")\n",
    "\n",
    "# pos_train_tac = pos_tac\n",
    "# neg_train_tac = neg_tac\n",
    "\n",
    "# pos_unseen = pos_yago\n",
    "# neg_unseen = neg_yago\n",
    "\n",
    "pos_train = pd.read_csv('pos_7.csv')\n",
    "neg_train = pd.read_csv('neg_7.csv')\n",
    "\n",
    "pos_test = pd.read_csv('pos_yago_7.csv')\n",
    "neg_test = pd.read_csv('neg_yago_7.csv')\n",
    "\n",
    "\n",
    "\n",
    "############################################### GENERATE VECTORS #######################################################\n",
    "from collections import defaultdict\n",
    "\n",
    "yago_paper_step_1_with_triv = pd.DataFrame()\n",
    "yago_paper_step_1_non_triv = pd.DataFrame()\n",
    "\n",
    "auc_lst = []\n",
    "err_lst = []\n",
    "precision_lst = []\n",
    "recall_last = []\n",
    "f1_lst = []\n",
    "\n",
    "agg_metrics_with_triv = defaultdict(list)\n",
    "agg_metrics_non_triv = defaultdict(list)\n",
    "\n",
    "for prct in [0.999, 0.99, 0.9, 0.8, 0.7, 0.6, 0.5, 0.4, 0.3, 0.2, 0.1]:\n",
    "    with_trivial = defaultdict(list)\n",
    "    non_trivial = defaultdict(list)\n",
    "    for i in range(1, 11):\n",
    "        final_vecs_pos_train = []\n",
    "        final_vecs_neg_train = []\n",
    "        pos_train_labels = []\n",
    "        neg_train_labels = []\n",
    "\n",
    "        for index, row in pos_train.iterrows():\n",
    "            diff_vec = []\n",
    "            a_word_vec = str_to_vec_rep(row['a_word_vec'])\n",
    "            b_word_vec = str_to_vec_rep(row['b_word_vec'])\n",
    "\n",
    "            a_sentence_vec = str_to_vec_rep(row['a_sen_vec'])\n",
    "            b_sentence_vec = str_to_vec_rep(row['b_sen_vec'])\n",
    "\n",
    "            a_sentence_rep_vec = str_to_vec_rep(row['embed_replaced_sent_a'])\n",
    "            b_sentence_rep_vec = str_to_vec_rep(row['embed_replaced_sent_b'])\n",
    "\n",
    "            diff_vec.append(np.concatenate([(b_word_vec - a_word_vec) ** 2, \n",
    "                                            (b_sentence_vec - a_sentence_vec) ** 2,\n",
    "                                            (b_sentence_rep_vec - a_sentence_rep_vec) ** 2,\n",
    "                                            (a_sentence_rep_vec - a_sentence_vec) ** 2,\n",
    "                                            (b_sentence_rep_vec - b_sentence_vec) ** 2]))\n",
    "\n",
    "            diff_vec.append(row['edit_distance'])\n",
    "            diff_vec.append(row['capitalized_edit_distance'])\n",
    "            diff_vec.append(row['mention_b'])\n",
    "            diff_vec.append(row['mention_a'])\n",
    "            diff_vec.append(row['text_b'])\n",
    "            diff_vec.append(row['text_a'])\n",
    "            final_vecs_pos_train.append(diff_vec)\n",
    "            pos_train_labels.append(1)\n",
    "\n",
    "        for index, row in neg_train.iterrows():\n",
    "                diff_vec = []\n",
    "                a_word_vec = str_to_vec_rep(row['a_word_vec'])\n",
    "                b_word_vec = str_to_vec_rep(row['b_word_vec'])\n",
    "\n",
    "                a_sentence_vec = str_to_vec_rep(row['a_sen_vec'])\n",
    "                b_sentence_vec = str_to_vec_rep(row['b_sen_vec'])\n",
    "\n",
    "                a_sentence_rep_vec = str_to_vec_rep(row['embed_replaced_sent_a'])\n",
    "                b_sentence_rep_vec = str_to_vec_rep(row['embed_replaced_sent_b'])\n",
    "\n",
    "                diff_vec.append(np.concatenate([(b_word_vec - a_word_vec) ** 2, \n",
    "                                                (b_sentence_vec - a_sentence_vec) ** 2,\n",
    "                                                (b_sentence_rep_vec - a_sentence_rep_vec) ** 2,\n",
    "                                                (a_sentence_rep_vec - a_sentence_vec) ** 2,\n",
    "                                                (b_sentence_rep_vec - b_sentence_vec) ** 2]))\n",
    "                diff_vec.append(row['edit_distance'])\n",
    "                diff_vec.append(row['capitalized_edit_distance'])\n",
    "                diff_vec.append(row['mention_b'])\n",
    "                diff_vec.append(row['mention_a'])\n",
    "                diff_vec.append(row['text_b'])\n",
    "                diff_vec.append(row['text_a'])\n",
    "                final_vecs_neg_train.append(diff_vec)\n",
    "                neg_train_labels.append(0)\n",
    "        \n",
    "        \n",
    "        final_vecs_pos_test = []\n",
    "        final_vecs_neg_test = []\n",
    "        pos_labels_test = []\n",
    "        neg_labels_test = []\n",
    "\n",
    "        for index, row in pos_test.iterrows():\n",
    "            diff_vec = []\n",
    "            a_word_vec = str_to_vec_rep(row['a_word_vec'])\n",
    "            b_word_vec = str_to_vec_rep(row['b_word_vec'])\n",
    "\n",
    "            a_sentence_vec = str_to_vec_rep(row['a_sen_vec'])\n",
    "            b_sentence_vec = str_to_vec_rep(row['b_sen_vec'])\n",
    "\n",
    "            a_sentence_rep_vec = str_to_vec_rep(row['embed_replaced_sent_a'])\n",
    "            b_sentence_rep_vec = str_to_vec_rep(row['embed_replaced_sent_b'])\n",
    "\n",
    "            diff_vec.append(np.concatenate([(b_word_vec - a_word_vec) ** 2, \n",
    "                                            (b_sentence_vec - a_sentence_vec) ** 2,\n",
    "                                            (b_sentence_rep_vec - a_sentence_rep_vec) ** 2,\n",
    "                                            (a_sentence_rep_vec - a_sentence_vec) ** 2,\n",
    "                                            (b_sentence_rep_vec - b_sentence_vec) ** 2]))\n",
    "\n",
    "            diff_vec.append(row['edit_distance'])\n",
    "            diff_vec.append(row['capitalized_edit_distance'])\n",
    "            diff_vec.append(row['mention_b'])\n",
    "            diff_vec.append(row['mention_a'])\n",
    "            diff_vec.append(row['text_b'])\n",
    "            diff_vec.append(row['text_a'])\n",
    "            final_vecs_pos_test.append(diff_vec)\n",
    "            pos_labels_test.append(1)\n",
    "\n",
    "        for index, row in neg_test.iterrows():\n",
    "            diff_vec = []\n",
    "            a_word_vec = str_to_vec_rep(row['a_word_vec'])\n",
    "            b_word_vec = str_to_vec_rep(row['b_word_vec'])\n",
    "\n",
    "            a_sentence_vec = str_to_vec_rep(row['a_sen_vec'])\n",
    "            b_sentence_vec = str_to_vec_rep(row['b_sen_vec'])\n",
    "\n",
    "            a_sentence_rep_vec = str_to_vec_rep(row['embed_replaced_sent_a'])\n",
    "            b_sentence_rep_vec = str_to_vec_rep(row['embed_replaced_sent_b'])\n",
    "\n",
    "            diff_vec.append(np.concatenate([(b_word_vec - a_word_vec) ** 2, \n",
    "                                            (b_sentence_vec - a_sentence_vec) ** 2,\n",
    "                                            (b_sentence_rep_vec - a_sentence_rep_vec) ** 2,\n",
    "                                            (a_sentence_rep_vec - a_sentence_vec) ** 2,\n",
    "                                            (b_sentence_rep_vec - b_sentence_vec) ** 2]))\n",
    "            diff_vec.append(row['edit_distance'])\n",
    "            diff_vec.append(row['capitalized_edit_distance'])\n",
    "            diff_vec.append(row['mention_b'])\n",
    "            diff_vec.append(row['mention_a'])\n",
    "            diff_vec.append(row['text_b'])\n",
    "            diff_vec.append(row['text_a'])\n",
    "            final_vecs_neg_test.append(diff_vec)\n",
    "            neg_labels_test.append(0)\n",
    "\n",
    "        \n",
    "#         final_vecs_pos_train_tac = []\n",
    "#         final_vecs_neg_train_tac = []\n",
    "#         pos_labels_train_tac = []\n",
    "#         neg_labels_train_tac = []\n",
    "\n",
    "#         for index, row in pos_train_tac.iterrows():\n",
    "#             diff_vec = []\n",
    "#             a_word_vec = str_to_vec_rep(row['a_word_vec'])\n",
    "#             b_word_vec = str_to_vec_rep(row['b_word_vec'])\n",
    "\n",
    "#             a_sentence_vec = str_to_vec_rep(row['a_sen_vec'])\n",
    "#             b_sentence_vec = str_to_vec_rep(row['b_sen_vec'])\n",
    "\n",
    "#             a_sentence_rep_vec = str_to_vec_rep(row['embed_replaced_sent_a'])\n",
    "#             b_sentence_rep_vec = str_to_vec_rep(row['embed_replaced_sent_b'])\n",
    "\n",
    "#             diff_vec.append(np.concatenate([(b_word_vec - a_word_vec) ** 2, \n",
    "#                                             (b_sentence_vec - a_sentence_vec) ** 2,\n",
    "#                                             (b_sentence_rep_vec - a_sentence_rep_vec) ** 2,\n",
    "#                                             (a_sentence_rep_vec - a_sentence_vec) ** 2,\n",
    "#                                             (b_sentence_rep_vec - b_sentence_vec) ** 2]))\n",
    "\n",
    "#             diff_vec.append(row['edit_distance'])\n",
    "#             diff_vec.append(row['capitalized_edit_distance'])\n",
    "#             diff_vec.append(row['mention_b'])\n",
    "#             diff_vec.append(row['mention_a'])\n",
    "#             diff_vec.append(row['text_b'])\n",
    "#             diff_vec.append(row['text_a'])\n",
    "#             final_vecs_pos_train_tac.append(diff_vec)\n",
    "#             pos_labels_train_tac.append(1)\n",
    "\n",
    "\n",
    "#         for index, row in neg_train_tac.iterrows():\n",
    "#             diff_vec = []\n",
    "#             a_word_vec = str_to_vec_rep(row['a_word_vec'])\n",
    "#             b_word_vec = str_to_vec_rep(row['b_word_vec'])\n",
    "\n",
    "#             a_sentence_vec = str_to_vec_rep(row['a_sen_vec'])\n",
    "#             b_sentence_vec = str_to_vec_rep(row['b_sen_vec'])\n",
    "\n",
    "#             a_sentence_rep_vec = str_to_vec_rep(row['embed_replaced_sent_a'])\n",
    "#             b_sentence_rep_vec = str_to_vec_rep(row['embed_replaced_sent_b'])\n",
    "\n",
    "#             diff_vec.append(np.concatenate([(b_word_vec - a_word_vec) ** 2, \n",
    "#                                             (b_sentence_vec - a_sentence_vec) ** 2,\n",
    "#                                             (b_sentence_rep_vec - a_sentence_rep_vec) ** 2,\n",
    "#                                             (a_sentence_rep_vec - a_sentence_vec) ** 2,\n",
    "#                                             (b_sentence_rep_vec - b_sentence_vec) ** 2]))\n",
    "#             diff_vec.append(row['edit_distance'])\n",
    "#             diff_vec.append(row['capitalized_edit_distance'])\n",
    "#             diff_vec.append(row['mention_b'])\n",
    "#             diff_vec.append(row['mention_a'])\n",
    "#             diff_vec.append(row['text_b'])\n",
    "#             diff_vec.append(row['text_a'])\n",
    "#             final_vecs_neg_train_tac.append(diff_vec)\n",
    "#             neg_labels_train_tac.append(0)\n",
    "        \n",
    "        ############################################# TRAIN TEST SPLIT #########################################################\n",
    "\n",
    "\n",
    "        from sklearn.model_selection import train_test_split\n",
    "        \n",
    "        # YAGO Train\n",
    "        train_features_pos, _, train_labels_pos, _ = train_test_split(final_vecs_pos_train, pos_train_labels, test_size = 0.000001)\n",
    "        train_features_neg, _, train_labels_neg, _ = train_test_split(final_vecs_neg_train, neg_train_labels, test_size = 0.000001)\n",
    "\n",
    "        train_features_pos = list(train_features_pos)\n",
    "        train_features_pos.extend(list(train_features_neg))\n",
    "        train_features = train_features_pos\n",
    "        \n",
    "        train_labels_pos = list(train_labels_pos)\n",
    "        train_labels_pos.extend(list(train_labels_neg))\n",
    "        train_labels = train_labels_pos\n",
    "        \n",
    "#         val_features_pos = list(test_features_pos)\n",
    "#         val_features_pos.extend(list(test_features_neg))\n",
    "#         val_features = val_features_pos\n",
    "\n",
    "#         val_labels_pos = list(test_labels_pos)\n",
    "#         val_labels_pos.extend(list(test_labels_neg))\n",
    "#         val_labels = np.array(val_labels_pos)\n",
    "        \n",
    "        train_features_pos_2, test_features_pos, train_labels_pos_2, test_labels_pos = train_test_split(final_vecs_pos_test, pos_labels_test, test_size = prct)\n",
    "        train_features_neg_2, test_features_neg, train_labels_neg_2, test_labels_neg = train_test_split(final_vecs_neg_test, neg_labels_test, test_size = prct)\n",
    "        \n",
    "        train_features_pos_2 = list(train_features_pos_2)\n",
    "        train_features_pos_2.extend(list(train_features_neg_2))\n",
    "        train_features.extend(train_features_pos_2)\n",
    "        \n",
    "        train_labels_pos_2 = list(train_labels_pos_2)\n",
    "        train_labels_pos_2.extend(list(train_labels_neg_2))\n",
    "        train_labels.extend(train_labels_pos_2)\n",
    "        train_labels = np.array(train_labels)\n",
    "        \n",
    "        test_features_pos = list(test_features_pos)\n",
    "        test_features_pos.extend(list(test_features_neg))\n",
    "        test_features = test_features_pos\n",
    "        \n",
    "        test_labels_pos = list(test_labels_pos)\n",
    "        test_labels_pos.extend(list(test_labels_neg))\n",
    "        test_labels = (np.array(test_labels_pos))\n",
    "        \n",
    "#         # TAC\n",
    "#         train_features_pos_tac = final_vecs_pos_train_tac\n",
    "#         train_features_pos_tac.extend(list(final_vecs_neg_train_tac))\n",
    "#         train_features_tac = train_features_pos_tac\n",
    "\n",
    "#         train_labels_pos_tac = pos_labels_train_tac\n",
    "#         train_labels_pos_tac.extend(neg_labels_train_tac)\n",
    "#         train_labels_tac = np.array(train_labels_pos_tac)\n",
    "\n",
    "        \n",
    "#         # YAGO Test\n",
    "#         test_features_pos_unseen = final_vecs_pos_test_yago\n",
    "#         test_features_pos_unseen.extend(final_vecs_neg_test_yago)\n",
    "#         test_features_unseen = test_features_pos_unseen\n",
    "\n",
    "#         test_labels_pos_unseen = pos_labels_test_yago\n",
    "#         test_labels_pos_unseen.extend(neg_labels_test_yago)\n",
    "#         test_labels_unseen = np.array(test_labels_pos_unseen)\n",
    "\n",
    "        ############################################# ALL DATA RESULTS  ########################################################\n",
    "\n",
    "        from sklearn.metrics import f1_score, precision_score, recall_score, confusion_matrix, roc_auc_score\n",
    "        import pandas as pd\n",
    "        \n",
    "        \n",
    "#         params = {'loss_function':'Logloss',\n",
    "#           'eval_metric': 'AUC', \n",
    "#           'verbose': 200,\n",
    "#           'iterations': 100,\n",
    "#           'learning_rate': 0.5, \n",
    "#          }\n",
    "            \n",
    "#         train_set = [np.append(np.append(t[0], t[1]), t[2]) for t in train_features_tac]\n",
    "#         val_set = [np.append(np.append(t[0], t[1]), t[2]) for t in val_features]\n",
    "        \n",
    "#         model_base = CatBoostClassifier(**params)\n",
    "#         model_base.fit(\n",
    "#             train_set, \n",
    "#             train_labels_tac,\n",
    "#             eval_set=(val_set, val_labels),\n",
    "#             verbose=True, \n",
    "#         )\n",
    "        \n",
    "#         if prct != 0.999:\n",
    "#             rf = CatBoostClassifier(**params)\n",
    "#             train_unseen_set = [np.append(np.append(t[0], t[1]), t[2]) for t in train_features]\n",
    "#             rf.fit(\n",
    "#                 train_unseen_set, \n",
    "#                 train_labels,\n",
    "#                 eval_set=(val_set, val_labels),\n",
    "#                 init_model=model_base,\n",
    "#                 verbose=True, \n",
    "#             )\n",
    "#         elif prct == 0.999:\n",
    "#             rf = model_base\n",
    "    \n",
    "        rf = RandomForestClassifier(n_estimators = 100)\n",
    "        train_set = [np.append(np.append(t[0], t[1]), t[2]) for t in train_features]\n",
    "        rf.fit(train_set, train_labels)\n",
    "    \n",
    "        predictions = rf.predict([np.append(np.append(t[0], t[1]), t[2]) for t in test_features])\n",
    "        errors = abs(predictions - test_labels)\n",
    "\n",
    "        roc_auc = roc_auc_score(test_labels, predictions)\n",
    "        print('roc auc: ', roc_auc)\n",
    "        print('error: ', sum(errors)/len(predictions))\n",
    "        print('f1: ', f1_score(test_labels, predictions))\n",
    "        print('precision :', precision_score(test_labels, predictions))\n",
    "        print('recall :', recall_score(test_labels, predictions))  \n",
    "        print('***********************')\n",
    "        confusion_df = pd.DataFrame(confusion_matrix(test_labels, predictions))\n",
    "        confusion_df.columns = ['predicted False', 'predicted True']\n",
    "        confusion_df[''] = ['actual False', 'actual True']\n",
    "        print(confusion_df.to_string(index=False))\n",
    "\n",
    "        with_trivial['auc'].append(roc_auc)\n",
    "        with_trivial['error'].append(sum(errors)/len(predictions))\n",
    "        with_trivial['precision'].append(precision_score(test_labels, predictions))\n",
    "        with_trivial['recall'].append(recall_score(test_labels, predictions))\n",
    "        with_trivial['f1'].append(f1_score(test_labels, predictions))\n",
    "        print(\"##################################################\")\n",
    "        \n",
    "#         ############################################# NON TRIVIAL RESULTS  ########################################################\n",
    "        try:\n",
    "            from sklearn.metrics import f1_score, precision_score, recall_score, confusion_matrix, roc_auc_score\n",
    "            import pandas as pd\n",
    "            \n",
    "            test_features_not_trivial = []\n",
    "            test_labels_not_trivial = []\n",
    "            for i, t in enumerate(test_features):\n",
    "                if (t[3] == t[4] and test_labels[i] == 0) or (t[3] != t[4] and test_labels[i] == 1):\n",
    "                    test_features_not_trivial.append(t)\n",
    "                    test_labels_not_trivial.append(test_labels[i])\n",
    "\n",
    "            predictions = rf.predict([np.append(np.append(t[0], t[1]), t[2]) for t in test_features_not_trivial])\n",
    "            errors = abs(predictions - test_labels_not_trivial)\n",
    "            roc_auc = roc_auc_score(test_labels_not_trivial, predictions)\n",
    "\n",
    "            non_trivial['auc'].append(roc_auc)\n",
    "            non_trivial['error'].append(sum(errors)/len(predictions))\n",
    "            non_trivial['precision'].append(precision_score(test_labels_not_trivial, predictions))\n",
    "            non_trivial['recall'].append(recall_score(test_labels_not_trivial, predictions))\n",
    "            non_trivial['f1'].append(f1_score(test_labels_not_trivial, predictions))\n",
    "\n",
    "            print('roc auc: ', roc_auc)\n",
    "            print('error: ', sum(errors)/len(predictions))\n",
    "            print('f1: ', f1_score(test_labels_not_trivial, predictions))\n",
    "            print('precision :', precision_score(test_labels_not_trivial, predictions))\n",
    "            print('recall :', recall_score(test_labels_not_trivial, predictions))  \n",
    "            print('***********************')\n",
    "            confusion_df = pd.DataFrame(confusion_matrix(test_labels_not_trivial, predictions))\n",
    "            confusion_df.columns = ['predicted False', 'predicted True']\n",
    "            confusion_df[''] = ['actual False', 'actual True']\n",
    "            print(confusion_df.to_string(index=False))\n",
    "        except:\n",
    "            continue\n",
    "\n",
    "\n",
    "    ############################################# AGGREGATE RESULTS ################################################################\n",
    "\n",
    "\n",
    "    import statistics\n",
    "    \n",
    "    print('# New Domain Positive Pairs Percentage - test: ' + str(prct))\n",
    "\n",
    "    for key in with_trivial.keys():\n",
    "        agg_metrics_with_triv[key].append(statistics.mean(with_trivial[key]))\n",
    "\n",
    "    for key in non_trivial.keys():\n",
    "        agg_metrics_non_triv[key].append(statistics.mean(non_trivial[key]))\n",
    "                \n",
    "    print(agg_metrics_with_triv)\n",
    "    print(agg_metrics_non_triv)\n",
    "############################################# SAVE CSVs ################################################################\n",
    "\n",
    "\n",
    "yago_paper_step_1_with_triv['#_new_domain_pos_pairs_prct'] = [1, 0.99, 0.9, 0.8, 0.7, 0.6, 0.5, 0.4, 0.3, 0.2, 0.1]\n",
    "yago_paper_step_1_with_triv['auc'] = agg_metrics_with_triv['auc']\n",
    "yago_paper_step_1_with_triv['error'] = agg_metrics_with_triv['error']\n",
    "yago_paper_step_1_with_triv['precision'] = agg_metrics_with_triv['precision']\n",
    "yago_paper_step_1_with_triv['recall'] = agg_metrics_with_triv['recall']\n",
    "yago_paper_step_1_with_triv['f1'] = agg_metrics_with_triv['f1']\n",
    "yago_paper_step_1_with_triv.to_csv('Transfer_Learning_2_tac_to_yago_with_triv.csv')\n",
    "\n",
    "yago_paper_step_1_non_triv['#_new_domain_pos_pairs_prct'] = [1, 0.99, 0.9, 0.8, 0.7, 0.6, 0.5, 0.4, 0.3, 0.2, 0.1]\n",
    "yago_paper_step_1_non_triv['auc'] = agg_metrics_non_triv['auc']\n",
    "yago_paper_step_1_non_triv['error'] = agg_metrics_non_triv['error']\n",
    "yago_paper_step_1_non_triv['precision'] = agg_metrics_non_triv['precision']\n",
    "yago_paper_step_1_non_triv['recall'] = agg_metrics_non_triv['recall']\n",
    "yago_paper_step_1_non_triv['f1'] = agg_metrics_non_triv['f1']\n",
    "yago_paper_step_1_non_triv.to_csv('Transfer_Learning_2_tac_to_yago_non_triv.csv')\n",
    "\n"
   ]
  },
  {
   "cell_type": "code",
   "execution_count": null,
   "metadata": {},
   "outputs": [],
   "source": []
  }
 ],
 "metadata": {
  "kernelspec": {
   "display_name": "my_thesis_venv",
   "language": "python",
   "name": "my_thesis_venv"
  },
  "language_info": {
   "codemirror_mode": {
    "name": "ipython",
    "version": 3
   },
   "file_extension": ".py",
   "mimetype": "text/x-python",
   "name": "python",
   "nbconvert_exporter": "python",
   "pygments_lexer": "ipython3",
   "version": "3.8.5"
  }
 },
 "nbformat": 4,
 "nbformat_minor": 4
}
